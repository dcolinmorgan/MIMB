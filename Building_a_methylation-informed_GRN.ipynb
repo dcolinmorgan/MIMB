{
 "cells": [
  {
   "cell_type": "markdown",
   "metadata": {},
   "source": [
    "# Building a methylation-informed regulatory network\n",
    "Daniel C Morgan<sup>1</sup>\n",
    "\n",
    "<sup>1</sup>Channing Division of Network Medicine, Harvard Medical School, Boston, MA."
   ]
  },
  {
   "cell_type": "markdown",
   "metadata": {},
   "source": [
    "## Introduction\n",
    "\n",
    "Inexpensive, high quality methylation platforms (illumina 450k/850k arrays) have shifted the prospect of integrating such omics into more traditional resources for the inference of gene regulatory networks (GRN). The recent literature has expanded in every direction to take advantage of this new, ubiquitous data source, and as such a wide range of approaches have been proposed. Recent publications range from potential use cases where it makes the most sense to account for DNA methylation in regulatory framework to methodological approaches for doing just that without regard for the research question. This book chapter is organized based upon this continuum, starting with use cases most appropriate for taking advantage of DNA methylation information towards more recent approaches of methodologies and frameworks for appropriately and accurately doing so. Lastly, we shall work through a modern approach for both, namely a meGRN framework and use case example, to see the utility methylation can lend to an investigation.\n",
    "\n",
    "## Loading libraries"
   ]
  },
  {
   "cell_type": "code",
   "execution_count": null,
   "metadata": {},
   "outputs": [],
   "source": [
    "import matplotlib.pyplot as plt\n",
    "import numpy as np\n",
    "import os\n",
    "import seaborn as sns\n",
    "import scipy\n",
    "import pandas as pd\n",
    "from sklearn import metrics\n",
    "# from pybedtools import BedTool ##super limited capabilities"
   ]
  },
  {
   "cell_type": "code",
   "execution_count": null,
   "metadata": {},
   "outputs": [],
   "source": [
    "os.chdir('../netZooPy')\n",
    "!pip install -e ./"
   ]
  },
  {
   "cell_type": "code",
   "execution_count": null,
   "metadata": {},
   "outputs": [],
   "source": [
    "import netZooPy\n",
    "from netZooPy.panda import Panda\n",
    "from netZooPy.lioness import Lioness\n",
    "# from netZooPy.milipede import Milipede\n",
    "os.chdir('../MIMB/')"
   ]
  },
  {
   "cell_type": "markdown",
   "metadata": {},
   "source": [
    "## Motivation\n",
    "\n",
    "The matter involves finding regions of known TF binding which also have methylation events proximal to these locations. For this, one can rely on WGBS chromosome location or array data which illumina provides cg names for, which map to similar locations.\n"
   ]
  },
  {
   "cell_type": "markdown",
   "metadata": {},
   "source": [
    "## Outline:\n",
    "- Brief literature review\n",
    "- Data formats -- what is required, depending on availability\n",
    "  - Chr start stop\n",
    "  - Cg annotation (illumina)\n",
    "  - Other → some method for relating genome location to binding\n",
    "- Pipeline:\n",
    "  0. FIMO scan & open-access data\n",
    "  1. (py)bedtools\n",
    "  2. integrating\n",
    "    1. Integrating into netzoo bipartite\n",
    "    1. Integrating into other GRN framework\n",
    "      1. Smaller GRN models (TF-gene subsets) could just merge with methyl-motif and reduce their estimates where overlap / downweight (GRN estimate x 1- avg meth ratio)\n",
    "  3. Benchmarking against ChIP-seq"
   ]
  },
  {
   "cell_type": "markdown",
   "metadata": {},
   "source": [
    "## Building PWM Motif"
   ]
  },
  {
   "cell_type": "code",
   "execution_count": null,
   "metadata": {},
   "outputs": [],
   "source": [
    "# !wget https://granddb.s3.amazonaws.com/optPANDA/motifs/regMatPval1e3.csv\n",
    "# data=pd.read_csv('regMatPval1e3.csv')\n",
    "# mdata=pd.melt(data,id_vars=['Unnamed: 0'])\n",
    "# mdata=mdata.rename(columns={'Unnamed: 0':'TF','variable':'gene','value':'val'})\n",
    "# mdata.to_csv('regPval1e3.bed',sep='\\t',header=False)\n",
    "# !rm regMatPval1e3.csv"
   ]
  },
  {
   "cell_type": "code",
   "execution_count": null,
   "metadata": {},
   "outputs": [],
   "source": []
  },
  {
   "cell_type": "code",
   "execution_count": null,
   "metadata": {},
   "outputs": [],
   "source": [
    "9500113165461078524477"
   ]
  },
  {
   "cell_type": "code",
   "execution_count": null,
   "metadata": {},
   "outputs": [],
   "source": [
    "##TSS\n",
    "\n",
    "#https://raw.githubusercontent.com/Shicheng-Guo/AnnotationDatabase/master/hg38/refGene.hg38.TSS.bed"
   ]
  },
  {
   "cell_type": "code",
   "execution_count": null,
   "metadata": {},
   "outputs": [],
   "source": []
  },
  {
   "cell_type": "markdown",
   "metadata": {},
   "source": [
    "## Gathering data"
   ]
  },
  {
   "cell_type": "code",
   "execution_count": null,
   "metadata": {},
   "outputs": [],
   "source": [
    "TF > [TSS > WGBS] > ChIP"
   ]
  },
  {
   "cell_type": "code",
   "execution_count": null,
   "metadata": {},
   "outputs": [],
   "source": [
    "## A549 WGBS\n",
    "# !wget https://www.encodeproject.org/files/ENCFF005TID/@@download/ENCFF005TID.bed.gz\n",
    "# !gunzip ENCFF005TID.bed.gz\n",
    "\n",
    "# ## PPI\n",
    "# !wget https://granddb.s3.amazonaws.com/gpuPANDA/ppi2015_freezeCellLine.txt\n",
    "\n",
    "## remap ChIP (filter to A549)\n",
    "# !wget http://remap.univ-amu.fr/storage/remap2020/hg38/MACS2/remap2020_all_macs2_hg38_v1_0.bed.gz\n",
    "# !gunzip remap2020_all_macs2_hg38_v1_0.bed.gz\n",
    "\n",
    "# read conversion file\n",
    "# !unzip hg38_Tss_coordinates.csv.zip\n",
    "# geneCorr = pd.read_csv('hg38_Tss_coordinates.csv',sep='\\t')\n",
    "# geneCorr[['chrom','txStart','txEnd','name2']].to_csv('hg38_gene_coord.txt',sep='\\t',header=False,index=False)\n"
   ]
  },
  {
   "cell_type": "markdown",
   "metadata": {},
   "source": [
    "## Intersection Operations"
   ]
  },
  {
   "cell_type": "code",
   "execution_count": null,
   "metadata": {},
   "outputs": [],
   "source": [
    "##install bedtools\n",
    "# https://bedtools.readthedocs.io/en/latest/content/installation.html"
   ]
  },
  {
   "cell_type": "code",
   "execution_count": null,
   "metadata": {},
   "outputs": [],
   "source": [
    "! bedtools intersect -wa -wb -a ENCFF005TID.bed -b hg38_gene_coord.txt |cut -f1,2,3,10,11,15 |uniq> A.txt"
   ]
  },
  {
   "cell_type": "code",
   "execution_count": null,
   "metadata": {},
   "outputs": [],
   "source": [
    "data=pd.read_csv('M5568_1.02.txt',sep='\\t')"
   ]
  },
  {
   "cell_type": "code",
   "execution_count": null,
   "metadata": {},
   "outputs": [],
   "source": [
    "data[['sequence_name','start','stop','motif_alt_id']].to_csv('generic_motif.txt',sep='\\t',index=False,header=False)\n"
   ]
  },
  {
   "cell_type": "code",
   "execution_count": null,
   "metadata": {},
   "outputs": [],
   "source": [
    "! bedtools intersect -wa -wb -a generic_motif.txt -b A.txt > B.txt"
   ]
  },
  {
   "cell_type": "code",
   "execution_count": null,
   "metadata": {},
   "outputs": [],
   "source": [
    "! wc -l A.txt B.txt generic_motif.txt"
   ]
  },
  {
   "cell_type": "code",
   "execution_count": null,
   "metadata": {},
   "outputs": [],
   "source": [
    "! bedtools slop -i generic_motif.txt -g human.hg38.genome -r 250 -l 250 > generic_motif_250.txt\n"
   ]
  },
  {
   "cell_type": "code",
   "execution_count": null,
   "metadata": {},
   "outputs": [],
   "source": [
    "! bedtools intersect -wa -wb -a generic_motif_250.txt -b A.txt > B250.txt"
   ]
  },
  {
   "cell_type": "code",
   "execution_count": null,
   "metadata": {},
   "outputs": [],
   "source": [
    "! wc -l A.txt B250.txt generic_motif_250.txt"
   ]
  },
  {
   "cell_type": "code",
   "execution_count": null,
   "metadata": {},
   "outputs": [],
   "source": [
    "## in ../../d/tmp/redmo/bench/\n",
    "## also mili_bench/src/shell/mega_motif.sh\n",
    "# ../../../../udd/rekrg/Tools/bedtools2/bin/bedtools intersect -wa -wb -a Motif_BS_Chmax.txt -b hg38_tss_coord.txt > Motif_BS_Chmax_refseq.txt\n",
    "\n",
    "# ! bedtools intersect -wa -wb -a Motif_BS_Ch.txt -b hg38_tss_coord.txt > Motif_BS_Chmax_refseq.txt\n",
    "\n",
    "# awk '{print($4,\"\\t\",$5,\"\\t\",$6,\"\\t\",$7,\"\\t\",$8,\"\\t\",$12)}' Motif_BS_Chmax_refseq.txt |uniq >>uniq_Motif_BS_Chmax_refseq.txt\n"
   ]
  },
  {
   "cell_type": "code",
   "execution_count": 118,
   "metadata": {},
   "outputs": [],
   "source": [
    "data=pd.read_csv('uniqMotif_BS_Chmax_refseq.zip',sep='\\t',names=['ChIPTF','pwm','TF','wgbs','W1','gene'])"
   ]
  },
  {
   "cell_type": "code",
   "execution_count": 119,
   "metadata": {},
   "outputs": [],
   "source": [
    "# tt=data[['TF','gene']].drop_duplicates()"
   ]
  },
  {
   "cell_type": "code",
   "execution_count": 120,
   "metadata": {},
   "outputs": [
    {
     "name": "stderr",
     "output_type": "stream",
     "text": [
      "<ipython-input-120-293f90c220c8>:1: SettingWithCopyWarning: \n",
      "A value is trying to be set on a copy of a slice from a DataFrame\n",
      "\n",
      "See the caveats in the documentation: https://pandas.pydata.org/pandas-docs/stable/user_guide/indexing.html#returning-a-view-versus-a-copy\n",
      "  data.ChIPTF[data.ChIPTF!='0 ']=1\n"
     ]
    }
   ],
   "source": [
    "data.ChIPTF[data.ChIPTF!='0 ']=1\n",
    "data['ChIPTF']=pd.to_numeric(data['ChIPTF'])"
   ]
  },
  {
   "cell_type": "markdown",
   "metadata": {},
   "source": [
    "## Plot distributions and score against ChIP"
   ]
  },
  {
   "cell_type": "code",
   "execution_count": 193,
   "metadata": {},
   "outputs": [
    {
     "name": "stdout",
     "output_type": "stream",
     "text": [
      "['mean pwm motif=0.6082067034901157', 'mean wgbs motif=0.6393551915608513']\n"
     ]
    },
    {
     "data": {
      "text/plain": [
       "<matplotlib.legend.Legend at 0x7fa1c7225d30>"
      ]
     },
     "execution_count": 193,
     "metadata": {},
     "output_type": "execute_result"
    },
    {
     "data": {
      "image/png": "[encoded data removed]",
      "text/plain": [
       "<Figure size 576x360 with 1 Axes>"
      ]
     },
     "metadata": {
      "needs_background": "light"
     },
     "output_type": "display_data"
    }
   ],
   "source": [
    "ss=data.groupby(['TF','gene']).agg({'pwm':'mean',\"W1\":'mean',\"ChIPTF\":'max'})\n",
    "ss.pwm=(ss.pwm-ss.pwm.min())/(ss.pwm.max()-ss.pwm.min())\n",
    "fpr, tpr, thresholds = metrics.roc_curve(ss.ChIPTF, 1-(ss.W1/100))\n",
    "roc_auc=metrics.auc(fpr, tpr)\n",
    "\n",
    "fpr2, tpr2, thresholds2 = metrics.roc_curve(ss.ChIPTF, ss.pwm)\n",
    "roc_auc2=metrics.auc(fpr2, tpr2)\n",
    "\n",
    "print(['mean pwm motif='+str(roc_auc2),'mean wgbs motif='+str(roc_auc)])\n",
    "\n",
    "plt.figure(figsize=(8, 5))\n",
    "\n",
    "ss.W1=np.round(1-(ss.W1/100),decimals=4)\n",
    "ss.pwm=np.round(ss.pwm,decimals=4)\n",
    "\n",
    "tmp=plt.hist(ss.W1,bins=100,label='BS',alpha=.5,log=True)\n",
    "tmp=plt.hist(ss.pwm,bins=100,label='pwm',alpha=.5,log=True)\n",
    "tmp=plt.hist(ss.ChIPTF,bins=100,label='ChIP',alpha=.5,log=True)\n",
    "\n",
    "plt.legend(loc=\"best\")"
   ]
  },
  {
   "cell_type": "code",
   "execution_count": 194,
   "metadata": {},
   "outputs": [],
   "source": [
    "ss=ss.reset_index()\n",
    "ss.TF=ss.TF.str.replace('(', '')\n",
    "ss.TF=ss.TF.str.replace(')', '')\n",
    "ss.TF=ss.TF.str.replace(' ', '')\n",
    "ss.gene=ss.gene.str.replace(' ', '')\n",
    "ss[['TF','gene','pwm']].to_csv('mean_pwm_uniqMotif_BS_Chmax_refseq.txt',header=False,index=False,sep='\\t')\n",
    "ss[['TF','gene','W1']].to_csv('mean_wgbs_uniqMotif_BS_Chmax_refseq.txt',header=False,index=False,sep='\\t')"
   ]
  },
  {
   "cell_type": "code",
   "execution_count": null,
   "metadata": {},
   "outputs": [],
   "source": []
  },
  {
   "cell_type": "code",
   "execution_count": 195,
   "metadata": {},
   "outputs": [
    {
     "name": "stdout",
     "output_type": "stream",
     "text": [
      "['max wgbs motif=0.722342834898407', 'max wgbs motif=0.4138085647374004']\n"
     ]
    },
    {
     "data": {
      "text/plain": [
       "<matplotlib.legend.Legend at 0x7fac1fde07f0>"
      ]
     },
     "execution_count": 195,
     "metadata": {},
     "output_type": "execute_result"
    },
    {
     "data": {
      "image/png": "[encoded data removed]",
      "text/plain": [
       "<Figure size 576x360 with 1 Axes>"
      ]
     },
     "metadata": {
      "needs_background": "light"
     },
     "output_type": "display_data"
    }
   ],
   "source": [
    "ss=data.groupby(['TF','gene']).agg({'pwm':'max',\"W1\":'max',\"ChIPTF\":'max'})\n",
    "ss.pwm=(ss.pwm-ss.pwm.min())/(ss.pwm.max()-ss.pwm.min())\n",
    "fpr, tpr, thresholds = metrics.roc_curve(ss.ChIPTF, 1-(ss.W1/100))\n",
    "roc_auc=metrics.auc(fpr, tpr)\n",
    "\n",
    "fpr2, tpr2, thresholds2 = metrics.roc_curve(ss.ChIPTF, ss.pwm)\n",
    "roc_auc2=metrics.auc(fpr2, tpr2)\n",
    "\n",
    "print(['max wgbs motif='+str(roc_auc2),'max wgbs motif='+str(roc_auc)])\n",
    "\n",
    "plt.figure(figsize=(8, 5))\n",
    "\n",
    "ss.W1=np.round(1-(ss.W1/100),decimals=4)\n",
    "ss.pwm=np.round(ss.pwm,decimals=4)\n",
    "\n",
    "tmp=plt.hist(ss.W1,bins=100,label='BS',alpha=.5,log=True)\n",
    "tmp=plt.hist(ss.pwm,bins=100,label='pwm',alpha=.5,log=True)\n",
    "tmp=plt.hist(ss.ChIPTF,bins=100,label='ChIP',alpha=.5,log=True)\n",
    "\n",
    "plt.legend(loc=\"best\")"
   ]
  },
  {
   "cell_type": "code",
   "execution_count": 196,
   "metadata": {},
   "outputs": [],
   "source": [
    "ss=ss.reset_index()\n",
    "ss.TF=ss.TF.str.replace('(', '')\n",
    "ss.TF=ss.TF.str.replace(')', '')\n",
    "ss.TF=ss.TF.str.replace(' ', '')\n",
    "ss.gene=ss.gene.str.replace(' ', '')\n",
    "ss[['TF','gene','pwm']].to_csv('max_pwm_uniqMotif_BS_Chmax_refseq.txt',header=False,index=False,sep='\\t')\n",
    "ss[['TF','gene','W1']].to_csv('max_wgbs_uniqMotif_BS_Chmax_refseq.txt',header=False,index=False,sep='\\t')"
   ]
  },
  {
   "cell_type": "code",
   "execution_count": 197,
   "metadata": {},
   "outputs": [
    {
     "name": "stdout",
     "output_type": "stream",
     "text": [
      "['min wgbs motif=0.38440475373351285', 'min wgbs motif=0.7463724693730607']\n"
     ]
    },
    {
     "data": {
      "text/plain": [
       "<matplotlib.legend.Legend at 0x7fae3d77a400>"
      ]
     },
     "execution_count": 197,
     "metadata": {},
     "output_type": "execute_result"
    },
    {
     "data": {
      "image/png": "[encoded data removed]",
      "text/plain": [
       "<Figure size 576x360 with 1 Axes>"
      ]
     },
     "metadata": {
      "needs_background": "light"
     },
     "output_type": "display_data"
    }
   ],
   "source": [
    "ss=data.groupby(['TF','gene']).agg({'pwm':'min',\"W1\":'min',\"ChIPTF\":'max'})\n",
    "ss.pwm=(ss.pwm-ss.pwm.min())/(ss.pwm.max()-ss.pwm.min())\n",
    "\n",
    "fpr, tpr, thresholds = metrics.roc_curve(ss.ChIPTF, 1-(ss.W1/100))\n",
    "roc_auc=metrics.auc(fpr, tpr)\n",
    "\n",
    "fpr2, tpr2, thresholds2 = metrics.roc_curve(ss.ChIPTF, ss.pwm)\n",
    "roc_auc2=metrics.auc(fpr2, tpr2)\n",
    "\n",
    "print(['min wgbs motif='+str(roc_auc2),'min wgbs motif='+str(roc_auc)])\n",
    "\n",
    "plt.figure(figsize=(8, 5))\n",
    "\n",
    "ss.W1=np.round(1-(ss.W1/100),decimals=4)\n",
    "ss.pwm=np.round(ss.pwm,decimals=4)\n",
    "\n",
    "tmp=plt.hist(ss.W1,bins=100,label='BS',alpha=.5,log=True)\n",
    "tmp=plt.hist(ss.pwm,bins=100,label='pwm',alpha=.5,log=True)\n",
    "tmp=plt.hist(ss.ChIPTF,bins=100,label='ChIP',alpha=.5,log=True)\n",
    "\n",
    "plt.legend(loc=\"best\")"
   ]
  },
  {
   "cell_type": "code",
   "execution_count": 198,
   "metadata": {},
   "outputs": [],
   "source": [
    "ss=ss.reset_index()\n",
    "ss.TF=ss.TF.str.replace('(', '')\n",
    "ss.TF=ss.TF.str.replace(')', '')\n",
    "ss.TF=ss.TF.str.replace(' ', '')\n",
    "ss.gene=ss.gene.str.replace(' ', '')\n",
    "ss[['TF','gene','pwm']].to_csv('min_pwm_uniqMotif_BS_Chmax_refseq.txt',header=False,index=False,sep='\\t')\n",
    "ss[['TF','gene','W1']].to_csv('min_wgbs_uniqMotif_BS_Chmax_refseq.txt',header=False,index=False,sep='\\t')"
   ]
  },
  {
   "cell_type": "code",
   "execution_count": 142,
   "metadata": {},
   "outputs": [],
   "source": [
    "ss['one']=1\n",
    "ss[['TF','gene','one']].to_csv('one_wgbs_uniqMotif_BS_Chmax_refseq.txt',header=False,index=False,sep='\\t')\n"
   ]
  },
  {
   "cell_type": "markdown",
   "metadata": {},
   "source": [
    "## Run in Panda"
   ]
  },
  {
   "cell_type": "code",
   "execution_count": 157,
   "metadata": {},
   "outputs": [],
   "source": [
    "def test_panda(motif,size):\n",
    "    panda_objC=netZooPy.panda.Panda(expression_file='lcl_exp_panda.txt',\n",
    "                          motif_file=motif,\n",
    "                          ppi_file='ppi2015_freezeCellLine.txt',\n",
    "                          computing='cpu',modeProcess='intersection',save_memory=False,save_tmp=False,\n",
    "                          precision='single',keep_expression_matrix=False)\n",
    "\n",
    "    if not os.path.exists('~/MIMB/bench/bench'+'/'+size):\n",
    "        os.makedirs('~/MIMB/bench/bench'+'/'+size)\n",
    "    panda_objC.export_panda_results.to_csv('~/MIMB/bench/'+size+'/'+motif,sep='\\t',header=True,index=False)\n",
    "    return panda_objC.export_panda_results"
   ]
  },
  {
   "cell_type": "code",
   "execution_count": null,
   "metadata": {},
   "outputs": [],
   "source": [
    "#mean no buffer\n",
    "test_panda('mean_pwm_uniqMotif_BS_Chmax_refseq.txt','mean_pwm')\n",
    "test_panda('mean_wgbs_uniqMotif_BS_Chmax_refseq.txt','mean_wgbs')\n",
    "\n",
    "test_panda('min_pwm_uniqMotif_BS_Chmax_refseq.txt','min_pwm')\n",
    "test_panda('min_wgbs_uniqMotif_BS_Chmax_refseq.txt','min_wgbs')\n",
    "\n",
    "test_panda('max_pwm_uniqMotif_BS_Chmax_refseq.txt','max_pwm')\n",
    "test_panda('max_wgbs_uniqMotif_BS_Chmax_refseq.txt','max_wgbs')\n",
    "\n",
    "test_panda('one_wgbs_uniqMotif_BS_Chmax_refseq.txt','one_motif')\n",
    "\n",
    "# test_panda(min_0mean_pwm_motif,0bp_bench)\n",
    "# test_panda(min_0max_one_motif,0bp_bench)\n",
    "\n",
    "# ##max no buffer\n",
    "# test_panda(min_0max_methyl_motif,0bp_bench)\n",
    "# test_panda(min_0max_pwm_motif,0bp_bench)\n",
    "# # test_panda(min_0max_one_motif,0bp_bench) not needed\n",
    "\n",
    "\n",
    "# test_panda(min_0max_methyl_motif,0bp_bench)\n",
    "# test_panda(min_0max_pwm_motif,0bp_bench)\n",
    "\n",
    "# test_panda(min_0max_methyl_motif,0bp_bench)\n",
    "# test_panda(min_0max_pwm_motif,0bp_bench)\n",
    "\n",
    "# ##mean 100bp buffer\n",
    "# test_panda(min_100mean_methyl_motif,100bp_bench)\n",
    "# test_panda(min_100mean_pwm_motif,100bp_bench)\n",
    "# test_panda(min_100mean_one_motif,100bp_bench)\n",
    "\n",
    "# ##max 100bp buffer\n",
    "# test_panda(min_100max_methyl_motif,100bp_bench)\n",
    "# test_panda(min_100max_pwm_motif,100bp_bench)\n",
    "# test_panda(min_100max_one_motif,100bp_bench)\n"
   ]
  },
  {
   "cell_type": "code",
   "execution_count": null,
   "metadata": {},
   "outputs": [],
   "source": []
  },
  {
   "cell_type": "code",
   "execution_count": 189,
   "metadata": {},
   "outputs": [
    {
     "name": "stdout",
     "output_type": "stream",
     "text": [
      "['pwm=0.4790298067333373', 'wgbs=0.6466127324501161']\n"
     ]
    }
   ],
   "source": [
    "mean_pwm=pd.read_csv('bench/mean_pwm_uniqMotif_BS_Chmax_refseq.txt',sep='\\t',header=0,names=['TF','gene','motif','force'])\n",
    "mean_wgbs=pd.read_csv('bench/mean_wgbs_uniqMotif_BS_Chmax_refseq.txt',sep='\\t',header=0,names=['TF','gene','motif','force'])\n",
    "mean=mean_pwm.merge(mean_wgbs,on=['TF','gene'])\n",
    "test=mean.merge(ss[['TF','gene','ChIPTF']],on=['TF','gene'])\n",
    "\n",
    "fpr, tpr, thresholds = metrics.roc_curve(test.ChIPTF, test.force_x)\n",
    "roc_auc=metrics.auc(fpr, tpr)\n",
    "\n",
    "fpr2, tpr2, thresholds2 = metrics.roc_curve(test.ChIPTF, test.force_y)\n",
    "roc_auc2=metrics.auc(fpr2, tpr2)\n",
    "print(['mean panda pwm='+str(roc_auc),'mean panda wgbs='+str(roc_auc2)])"
   ]
  },
  {
   "cell_type": "code",
   "execution_count": 192,
   "metadata": {},
   "outputs": [
    {
     "name": "stdout",
     "output_type": "stream",
     "text": [
      "['min panda pwm=0.6169927216652102', 'min panda wgbs=0.4244881323117471']\n"
     ]
    }
   ],
   "source": [
    "max_pwm=pd.read_csv('bench/max_pwm_uniqMotif_BS_Chmax_refseq.txt',sep='\\t',header=0,names=['TF','gene','motif','force'])\n",
    "max_wgbs=pd.read_csv('bench/max_wgbs_uniqMotif_BS_Chmax_refseq.txt',sep='\\t',header=0,names=['TF','gene','motif','force'])\n",
    "max=max_pwm.merge(max_wgbs,on=['TF','gene'])\n",
    "test=max.merge(ss[['TF','gene','ChIPTF']],on=['TF','gene'])\n",
    "\n",
    "fpr, tpr, thresholds = metrics.roc_curve(test.ChIPTF, test.force_x)\n",
    "roc_auc=metrics.auc(fpr, tpr)\n",
    "\n",
    "fpr2, tpr2, thresholds2 = metrics.roc_curve(test.ChIPTF, test.force_y)\n",
    "roc_auc2=metrics.auc(fpr2, tpr2)\n",
    "print(['min panda pwm='+str(roc_auc),'min panda wgbs='+str(roc_auc2)])"
   ]
  },
  {
   "cell_type": "code",
   "execution_count": 191,
   "metadata": {},
   "outputs": [
    {
     "name": "stdout",
     "output_type": "stream",
     "text": [
      "['min panda pwm=0.39004939555510976', 'min panda wgbs=0.6706171522824088']\n"
     ]
    }
   ],
   "source": [
    "min_pwm=pd.read_csv('bench/min_pwm_uniqMotif_BS_Chmax_refseq.txt',sep='\\t',header=0,names=['TF','gene','motif','force'])\n",
    "min_wgbs=pd.read_csv('bench/min_wgbs_uniqMotif_BS_Chmax_refseq.txt',sep='\\t',header=0,names=['TF','gene','motif','force'])\n",
    "min=min_pwm.merge(min_wgbs,on=['TF','gene'])\n",
    "test=min.merge(ss[['TF','gene','ChIPTF']],on=['TF','gene'])\n",
    "\n",
    "fpr, tpr, thresholds = metrics.roc_curve(test.ChIPTF, test.force_x)\n",
    "roc_auc=metrics.auc(fpr, tpr)\n",
    "\n",
    "fpr2, tpr2, thresholds2 = metrics.roc_curve(test.ChIPTF, test.force_y)\n",
    "roc_auc2=metrics.auc(fpr2, tpr2)\n",
    "print(['min panda pwm='+str(roc_auc),'min panda wgbs='+str(roc_auc2)])"
   ]
  },
  {
   "cell_type": "code",
   "execution_count": 187,
   "metadata": {},
   "outputs": [
    {
     "name": "stdout",
     "output_type": "stream",
     "text": [
      "[0.4790298067333373, 0.6466127324501161]\n"
     ]
    }
   ],
   "source": []
  },
  {
   "cell_type": "code",
   "execution_count": null,
   "metadata": {},
   "outputs": [],
   "source": []
  }
 ],
 "metadata": {
  "kernelspec": {
   "display_name": "Python [conda env:py3] *",
   "language": "python",
   "name": "conda-env-py3-py"
  },
  "language_info": {
   "codemirror_mode": {
    "name": "ipython",
    "version": 3
   },
   "file_extension": ".py",
   "mimetype": "text/x-python",
   "name": "python",
   "nbconvert_exporter": "python",
   "pygments_lexer": "ipython3",
   "version": "3.8.2"
  }
 },
 "nbformat": 4,
 "nbformat_minor": 4
}
