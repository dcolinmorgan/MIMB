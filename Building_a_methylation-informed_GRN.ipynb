{
 "cells": [
  {
   "cell_type": "markdown",
   "metadata": {},
   "source": [
    "# Building a methylation-informed regulatory network\n",
    "Daniel C Morgan<sup>1</sup>\n",
    "\n",
    "<sup>1</sup>Channing Division of Network Medicine, Harvard Medical School, Boston, MA."
   ]
  },
  {
   "cell_type": "markdown",
   "metadata": {},
   "source": [
    "## Introduction\n",
    "\n",
    "Inexpensive, high quality methylation platforms (illumina 450k/850k arrays) have shifted the prospect of integrating such omics into more traditional resources for the inference of gene regulatory networks (GRN). The recent literature has expanded in every direction to take advantage of this new, ubiquitous data source, and as such a wide range of approaches have been proposed. Recent publications range from potential use cases where it makes the most sense to account for DNA methylation in regulatory framework to methodological approaches for doing just that without regard for the research question. This book chapter is organized based upon this continuum, starting with use cases most appropriate for taking advantage of DNA methylation information towards more recent approaches of methodologies and frameworks for appropriately and accurately doing so. Lastly, we shall work through a modern approach for both, namely a meGRN framework and use case example, to see the utility methylation can lend to an investigation.\n",
    "\n",
    "## Loading libraries"
   ]
  },
  {
   "cell_type": "code",
   "execution_count": 27,
   "metadata": {},
   "outputs": [],
   "source": [
    "import matplotlib.pyplot as plt\n",
    "import numpy as np\n",
    "import os\n",
    "import seaborn as sns\n",
    "import scipy\n",
    "import pandas as pd\n",
    "from sklearn import metrics\n",
    "import multiprocessing as mp\n",
    "from functools import partial\n",
    "# from pybedtools import BedTool ##super limited capabilities"
   ]
  },
  {
   "cell_type": "code",
   "execution_count": null,
   "metadata": {},
   "outputs": [],
   "source": [
    "os.chdir('../netZooPy')\n",
    "!pip install -e ./"
   ]
  },
  {
   "cell_type": "code",
   "execution_count": null,
   "metadata": {},
   "outputs": [],
   "source": [
    "import netZooPy\n",
    "from netZooPy.panda import Panda\n",
    "from netZooPy.lioness import Lioness\n",
    "# from netZooPy.milipede import Milipede\n",
    "os.chdir('../MIMB/')"
   ]
  },
  {
   "cell_type": "code",
   "execution_count": null,
   "metadata": {},
   "outputs": [],
   "source": [
    "##install bedtools\n",
    "# https://bedtools.readthedocs.io/en/latest/content/installation.html"
   ]
  },
  {
   "cell_type": "markdown",
   "metadata": {},
   "source": [
    "## Motivation\n",
    "\n",
    "The matter involves finding regions of known TF binding which also have methylation events proximal to these locations. For this, one can rely on WGBS chromosome location or array data which illumina provides cg names for, which map to similar locations.\n"
   ]
  },
  {
   "cell_type": "markdown",
   "metadata": {},
   "source": [
    "## Pipeline:\n",
    "  0. FIMO scan & open-access data (via [previous example](http://netbooks.networkmedicine.org/user/42270c34-aea7-4c9d-b95a-4c4ad2c3a715/notebooks/netZooPy/Building_a_regulation_prior_network.ipynb))\n",
    "  1. setting up bedtools\n",
    "  2. Intersections & slop\n",
    "    1. Integrating into bipartite format\n",
    "    1. Integrating into other GRN framework\n",
    "      1. Smaller GRN models (TF-gene subsets) could just merge with methyl-motif and reduce their estimates where overlap / downweight (GRN estimate x 1- avg meth ratio)\n",
    "  3. Benchmarking against ChIP-seq\n",
    "\n",
    "## Skip to relevant sections:\n",
    "* [__0. PWM-based pre-Motif__](#0.-PWM-based-pre-Motif)\n",
    "* [__I. Data Processing__](#I.-Data-Processing)\n",
    "   * [A. Gather Data](#A.-Gathering-data)\n",
    "   * [B. Intersection Operations](#B.-Intersection-Operations-&-Organization)\n",
    "   * [C. Export bipartite, sparse format](#C.-Export-bipartite,-sparse-format)\n",
    "* [__II. Accuracy Scoring__](#II.-Accuracy-Scoring)\n",
    "   - [A. Score intersection](#A.-Plot-distributions-and-score-against-ChIP)\n",
    "   - [B. Score after running thru PANDA](#B.-Score-and-compare-PANDA)\n",
    "   - [C. Score Slop intersection](#C.-Score-and-compare-Slop)\n",
    "   - [D. Score Slop after running thru PANDA](#D.-Score-and-compare-Slop-run-thru-PANDA)\n",
    "* [__III. Summary__](#III.-Summary)\n",
    "* [__IV. full scale, partial methyl Motif__](#IV.-full-scale,-partial-methyl-Motif)"
   ]
  },
  {
   "cell_type": "markdown",
   "metadata": {},
   "source": [
    "# 0. PWM-based pre-Motif"
   ]
  },
  {
   "cell_type": "markdown",
   "metadata": {},
   "source": [
    "#### these are essentially PWM TF files formated into bed files"
   ]
  },
  {
   "cell_type": "markdown",
   "metadata": {},
   "source": [
    "### download prerequisite data:\n",
    "* PWMs per TF\n",
    "* hg38 fasta file"
   ]
  },
  {
   "cell_type": "code",
   "execution_count": 117,
   "metadata": {},
   "outputs": [
    {
     "name": "stdout",
     "output_type": "stream",
     "text": [
      "--2021-06-24 16:11:12--  http://cisbp.ccbr.utoronto.ca/tmp/Homo_sapiens_2021_06_24_4:21_pm.zip\n",
      "Resolving cisbp.ccbr.utoronto.ca (cisbp.ccbr.utoronto.ca)... 142.150.52.218\n",
      "Connecting to cisbp.ccbr.utoronto.ca (cisbp.ccbr.utoronto.ca)|142.150.52.218|:80... connected.\n",
      "HTTP request sent, awaiting response... 200 OK\n",
      "Length: 271709153 (259M) [application/zip]\n",
      "Saving to: ‘Homo_sapiens_2021_06_24_4:21_pm.zip’\n",
      "\n",
      "Homo_sapiens_2021_0 100%[===================>] 259.12M  2.42MB/s    in 1m 42s  \n",
      "\n",
      "2021-06-24 16:12:54 (2.54 MB/s) - ‘Homo_sapiens_2021_06_24_4:21_pm.zip’ saved [271709153/271709153]\n",
      "\n"
     ]
    }
   ],
   "source": [
    "# !wget http://cisbp.ccbr.utoronto.ca/tmp/Homo_sapiens_2021_06_24_4:21_pm.zip\n",
    "# !wget http://humantfs.ccbr.utoronto.ca/download/v_1.01/PWMs.zip\n",
    "# !wget https://hgdownload.soe.ucsc.edu/goldenPath/hg38/bigZips/hg38.fa.gz"
   ]
  },
  {
   "cell_type": "markdown",
   "metadata": {},
   "source": [
    "### read in and process"
   ]
  },
  {
   "cell_type": "code",
   "execution_count": 52,
   "metadata": {},
   "outputs": [],
   "source": [
    "import zipfile\n",
    "zip = zipfile.ZipFile('PWMs.zip')\n",
    "nn = zip.namelist()\n",
    "file = pd.read_csv(zip.open(nn[1]),sep='\\t')"
   ]
  },
  {
   "cell_type": "markdown",
   "metadata": {},
   "source": [
    "### install MEME"
   ]
  },
  {
   "cell_type": "code",
   "execution_count": null,
   "metadata": {},
   "outputs": [],
   "source": [
    "%%bash\n",
    "wget https://meme-suite.org/meme/meme-software/5.3.3/meme-5.3.3.tar.gz\n",
    "tar zxf meme-5.3.3.tar.gz\n",
    "cd meme-5.3.3\n",
    "./configure --prefix=$HOME/meme --with-url=http://meme-suite.org --enable-build-libxml2 --enable-build-libxslt\n",
    "make\n",
    "make test\n",
    "make install"
   ]
  },
  {
   "cell_type": "markdown",
   "metadata": {},
   "source": [
    "### convert ccbr pwm into meme format & run FIMO"
   ]
  },
  {
   "cell_type": "code",
   "execution_count": null,
   "metadata": {},
   "outputs": [],
   "source": [
    "%%bash\n",
    "mdir=\"./PWMs/\"\n",
    "tmp=\"./tmp/\"\n",
    "out=\"./hg38_Motif/\"\n",
    "rm -r -i -f $tmp\n",
    "rm -r -i -f $out\n",
    "mkdir $tmp\n",
    "mkdir $out\n",
    "\n",
    "motifs=$(ls $mdir)\n",
    "for mfile in $motifs\n",
    "do\n",
    "eval \"./meme-5.3.3/scripts/matrix2meme <\" $mdir$mfile \"> \" $tmp$mfile\".meme\"\n",
    "eval \"./meme-5.3.3/src/fimo --thresh 0.0001 --text \"$tmp$mfile\".meme hg38.fa > \"$out$mfile\n",
    "done"
   ]
  },
  {
   "cell_type": "markdown",
   "metadata": {},
   "source": [
    "### parse FIMO output to bed files\n",
    "#### may need to update which columns to pull when file formats update"
   ]
  },
  {
   "cell_type": "code",
   "execution_count": null,
   "metadata": {},
   "outputs": [],
   "source": [
    "%%bash\n",
    "mapdir=\"./hg38_Motif/\"\n",
    "beddir=\"./hg38_bed/\"\n",
    "mkdir $beddir\n",
    "\n",
    "maps=$(eval \"ls \"$mapdir\"*.txt | cut -d / -f3 | cut -d . -f1,2\")\n",
    "\n",
    "for mfile in $maps\n",
    "do\n",
    "echo $mfile\n",
    "eval \"sort -u \"$mapdir$mfile\".txt -k3,5 > temp.txt\" \n",
    "eval \"awk '{if(\\$3 ~ /chr/){print \\$3\\\"\\t\\\"\\$4\\\"\\t\\\"\\$5\\\"\\t\\\"\\$3\\\":\\\"\\$4\\\"-\\\"\\$5\\\"\\t\\\"\\$7\\\"\\t\\\"\\$6\\\"\\t\\\"\\$8 > \\\"\"$beddir$mfile\".bed\\\"}}' tmp.txt\"\n",
    "rm -I tmp.txt\n",
    "done\n"
   ]
  },
  {
   "cell_type": "markdown",
   "metadata": {},
   "source": [
    "# I. Data Processing"
   ]
  },
  {
   "cell_type": "markdown",
   "metadata": {},
   "source": [
    "## A. Gathering data\n",
    "\n",
    "#### scale orders : TF > TSS annotation > WGBS >> ChIP"
   ]
  },
  {
   "cell_type": "code",
   "execution_count": null,
   "metadata": {},
   "outputs": [],
   "source": [
    "%%bash\n",
    "## GM12878 WGBS\n",
    "wget https://www.encodeproject.org/files/ENCFF005TID/@@download/ENCFF005TID.bed.gz\n",
    "gunzip ENCFF005TID.bed.gz\n",
    "\n",
    "# ## PPI\n",
    "wget https://granddb.s3.amazonaws.com/gpuPANDA/ppi2015_freezeCellLine.txt\n",
    "\n",
    "## remap ChIP (filter to A549)\n",
    "wget http://remap.univ-amu.fr/storage/remap2020/hg38/MACS2/remap2020_nr_macs2_hg38_v1_0.bed.gz\n",
    "gunzip remap2020_nr_macs2_hg38_v1_0.bed.gz\n",
    "grep GM12878 remap2020_nr_macs2_hg38_v1_0.bed |cut -f1,2,3,4 > | cut -d: -f1 gm12878_chip.txt\n",
    "\n",
    "# read conversion file\n",
    "unzip hg38_Tss_coordinates.csv.zip\n"
   ]
  },
  {
   "cell_type": "code",
   "execution_count": null,
   "metadata": {},
   "outputs": [],
   "source": [
    "# geneCorr = pd.read_csv('hg38_Tss_coordinates.csv',sep='\\t')\n",
    "# geneCorr[['chrom','txStart','txEnd','name2']].to_csv('hg38_gene_coord.txt',sep='\\t',header=False,index=False)"
   ]
  },
  {
   "cell_type": "markdown",
   "metadata": {},
   "source": [
    "## B. Intersection Operations & Organization\n",
    "\n",
    "#### build all previous motif info (with chr-start-end info) into megamotif file\n",
    "\n",
    "save all output from previous motif step as concatenated \"mega motif\" file, rather than deleting it as tmp, so you can now operate over it all"
   ]
  },
  {
   "cell_type": "code",
   "execution_count": null,
   "metadata": {},
   "outputs": [],
   "source": [
    "%%bash\n",
    "motifdir=\"./hg38_bed/\"  ## chr start stop pwm per gene name/\n",
    "motiffiles=$(ls $motifdir/*)\n",
    "for tf in $motiffiles #\n",
    "do\n",
    "    awk '{print($3,\"\\t\",$4,\"\\t\",$5,\"\\t\",$7,\"\\t\",$2)}' $tf |tail -n +2>>mega_motif.txt\n",
    "done\n",
    "\n",
    "cut -f1 mega_motif.txt -d -\n",
    "tr -d ' ' < mega_motif0.txt > mega_motif00.txt\n",
    "awk  '$3!=\"\"' mega_motif1.txt > mega_motif01.txt"
   ]
  },
  {
   "cell_type": "markdown",
   "metadata": {},
   "source": [
    "### format gene info"
   ]
  },
  {
   "cell_type": "code",
   "execution_count": null,
   "metadata": {},
   "outputs": [],
   "source": [
    "%%bash\n",
    "cut -f3,7,8,13 hg38_Tss_coordinates.csv | tail -n +2 > hg38_tss_coord.txt\n",
    "../../../../udd/rekrg/Tools/bedtools2/bin/bedtools intersect -wa -wb -a mega_motif01.txt -b hg38_tss_coord.txt > mega_motif_refseq.txt\n",
    "# ../../../../udd/rekrg/Tools/bedtools2/bin/bedtools intersect -wao -a ../../../../udd/redmo/data/MotifPipeline/ENCODE/wgbsin/GM12878both.txt -b ../../../../udd/redmo/data/MotifPipeline/remap/GM12878_spRE2020.txt > GM12878_BS_Ch.txt\n",
    "## also process with steps 2 cells below\n",
    "../../../../udd/rekrg/Tools/bedtools2/bin/bedtools slop -i mega_motif_refseq.txt -g ../rekrg/Tools/bedtools2/genomes/human.hg38.genome -r 100 -l 100  > slop_mega_BS_Ch0.txt\n",
    "\n",
    "# ../../../../udd/rekrg/Tools/bedtools2/bin/bedtools intersect -wao -a mega_motif_refseq.txt -b GM12878_BS_Ch01.txt > mega_BS_Ch0.txt\n",
    "\n",
    "../../../../udd/rekrg/Tools/bedtools2/bin/bedtools intersect -wao -a slop_mega_motif_refseq.txt -b GM12878_BS_Ch01.txt > slop_mega_BS_Ch0.txt\n",
    "# cut -f1,2,3,4,5,9,13,14,15 mega_BS_Ch0.txt |\n"
   ]
  },
  {
   "cell_type": "code",
   "execution_count": 2,
   "metadata": {},
   "outputs": [
    {
     "data": {
      "text/plain": [
       "'20210519'"
      ]
     },
     "execution_count": 2,
     "metadata": {},
     "output_type": "execute_result"
    }
   ],
   "source": [
    "import time\n",
    "time.strftime(\"%Y%m%d\")"
   ]
  },
  {
   "cell_type": "markdown",
   "metadata": {},
   "source": [
    "#### build mega_motif using larger window\n",
    "\n",
    "this relaxes the precision of overlap between the methylation and the motif region, thus allowing for more distant regulation by methylation. This has been shown to be stable up to +/-250bp, and for the example here we set it to +/- below"
   ]
  },
  {
   "cell_type": "markdown",
   "metadata": {},
   "source": []
  },
  {
   "cell_type": "code",
   "execution_count": null,
   "metadata": {},
   "outputs": [],
   "source": [
    "!bedtools slop  -i mega_motif01.txt -g ../rekrg/Tools/bedtools2/genomes/human.hg38.genome -r 100 -l 100 > megaSlop100.txt"
   ]
  },
  {
   "cell_type": "markdown",
   "metadata": {},
   "source": [
    "### intersect WGBS with ChIP (does not depend on motif window) & format"
   ]
  },
  {
   "cell_type": "markdown",
   "metadata": {},
   "source": [
    "We can save a step in the loop processing of these files by first intersecting these huge \"backbone\" files"
   ]
  },
  {
   "cell_type": "code",
   "execution_count": null,
   "metadata": {},
   "outputs": [],
   "source": [
    "%%bash\n",
    "bedtools intersect -wao -a ENCFF005TID.bed -b gm12878_chip.txt > GM12878_BS_Ch.txt\n",
    "sed -i.bak 's/\\t\\t/\\t/' GM12878_BS_Ch.txt\n",
    "cut -f1,2,3,4,5,9 GM12878_BS_Ch.txt > GM12878_BS_Ch0.txt\n",
    "cat GM12878_BS_Ch0.txt | tr \".\" 0 >GM12878_BS_Ch01.txt\n"
   ]
  },
  {
   "cell_type": "markdown",
   "metadata": {},
   "source": [
    "### intersect motif with WGBS-ChIP (with or without buffer)"
   ]
  },
  {
   "cell_type": "markdown",
   "metadata": {},
   "source": [
    "For matters of computational efficiency, break down files read in into chunks, depending on their overall size, and run in parallel"
   ]
  },
  {
   "cell_type": "code",
   "execution_count": null,
   "metadata": {},
   "outputs": [],
   "source": [
    "!wc -l Motif_BS_Ch.txt ## 226877058"
   ]
  },
  {
   "cell_type": "code",
   "execution_count": null,
   "metadata": {},
   "outputs": [],
   "source": [
    "!bedtools intersect -wa -wb -a mega_motif01.txt -b GM12878_BS_Ch01.txt > Motif_BS_Ch.txt\n",
    "\n",
    "def maxHit(i,chunk_size):\n",
    "    print(i)\n",
    "    data=pd.read_csv('Motif_BS_Ch.txt',sep='\\t',header=None,nrows=chunk_size,skiprows=chunk_size*i)\n",
    "    data1=data.groupby([0,1,2,10]).max()\n",
    "    data1[3]=data1[3].round(4)\n",
    "    data1[[3,4,8,9]].to_csv('Motif_BS_Chmax.txt',sep='\\t',index=True,header=False,mode='a')\n",
    "\n",
    "chunk_size=100000\n",
    "# for i in range(np.round(3505594261/chunk_size).astype('int')): ## will NOT be the same length, despite the want\n",
    "xx=range(np.round(226877058/chunk_size).astype('int'))\n",
    "\n",
    "pool = mp.Pool(20)\n",
    "res  = pool.map(partial(maxHit,chunk_size=chunk_size),xx)\n",
    "\n"
   ]
  },
  {
   "cell_type": "code",
   "execution_count": null,
   "metadata": {},
   "outputs": [],
   "source": [
    "!wc -l slop100_Motif_BS_Ch.txt ## 3505594261"
   ]
  },
  {
   "cell_type": "code",
   "execution_count": null,
   "metadata": {},
   "outputs": [],
   "source": [
    "!bedtools intersect -wa -wb -a megaSlop100.txt -b GM12878_BS_Ch01.txt > slop100_Motif_BS_Ch.txt\n",
    "\n",
    "def maxHit(i,chunk_size):\n",
    "    print(i)\n",
    "    data=pd.read_csv('slop100_Motif_BS_Ch.txt',sep='\\t',header=None,nrows=chunk_size,skiprows=chunk_size*i)\n",
    "    data1=data.groupby([0,1,2,10]).max()\n",
    "    data1[3]=data1[3].round(4)\n",
    "    data1[[3,4,8,9]].to_csv('slop100_Motif_BS_Chmax.txt',sep='\\t',index=True,header=False,mode='a')\n",
    "\n",
    "\n",
    "chunk_size=1000000\n",
    "# for i in range(np.round(3505594261/chunk_size).astype('int')): ## will NOT be the same length, despite the want\n",
    "xx=range(np.round(3505594261/chunk_size).astype('int'))\n",
    "\n",
    "pool = mp.Pool(20)\n",
    "res  = pool.map(partial(maxHit,chunk_size=chunk_size),xx)\n",
    "\n"
   ]
  },
  {
   "cell_type": "markdown",
   "metadata": {},
   "source": [
    "### intersect in gene information & reduce to max and unique locations"
   ]
  },
  {
   "cell_type": "markdown",
   "metadata": {},
   "source": [
    "Here we get to the naming of the genes, added to the TFs and ChIP information we already have. This process further restrict our search space"
   ]
  },
  {
   "cell_type": "code",
   "execution_count": null,
   "metadata": {},
   "outputs": [],
   "source": [
    "%%bash\n",
    "bedtools intersect -wa -wb -a Motif_BS_Chmax.txt -b hg38_tss_coord.txt > Motif_BS_Chmax_refseq.txt\n",
    "awk '{print($4,\"\\t\",$5,\"\\t\",$6,\"\\t\",$7,\"\\t\",$8,\"\\t\",$12)}' Motif_BS_Chmax_refseq.txt |uniq >>uniq_Motif_BS_Chmax_refseq.txt"
   ]
  },
  {
   "cell_type": "code",
   "execution_count": 1,
   "metadata": {},
   "outputs": [
    {
     "name": "stdout",
     "output_type": "stream",
     "text": [
      "/bin/sh: ../../../../udd/rekrg/Tools/bedtools2/bin/bedtools: No such file or directory\n"
     ]
    }
   ],
   "source": [
    "%%bash\n",
    "bedtools intersect -wa -wb -a slop100_Motif_BS_Ch.txt -b hg38_tss_coord.txt > slop100_Motif_BS_Ch_refseq.txt\n",
    "awk '{print($4,\"\\t\",$5,\"\\t\",$6,\"\\t\",$7,\"\\t\",$8,\"\\t\",$12)}' slop100_Motif_BS_Ch_refseq.txt |uniq >>uniq_slop100_Motif_BS_Ch_refseq.txt"
   ]
  },
  {
   "cell_type": "markdown",
   "metadata": {},
   "source": [
    "## C. Export bipartite, sparse format"
   ]
  },
  {
   "cell_type": "code",
   "execution_count": null,
   "metadata": {},
   "outputs": [],
   "source": [
    "%%bash\n",
    "tr -d '(' < mean_chip.txt > mega_slop100_motif00.txt\n",
    "tr -d ')' < mega_slop100_motif00.txt > mega_slop100_motif01.txt\n",
    "cut -f2,3,4 mega_slop100_motif01.txt | tail -n +2 > mean_chip_uniqMotif_BS_Chmax_refseq_slop100.txt\n",
    "\n",
    "tr -d '(' < min_chip.txt > mega_slop100_motif00.txt\n",
    "tr -d ')' < mega_slop100_motif00.txt > mega_slop100_motif01.txt\n",
    "cut -f2,3,4 mega_slop100_motif01.txt | tail -n +2 > min_chip_uniqMotif_BS_Chmax_refseq_slop100.txt\n",
    "\n",
    "tr -d '(' < max_chip.txt > mega_slop100_motif00.txt\n",
    "tr -d ')' < mega_slop100_motif00.txt > mega_slop100_motif01.txt\n",
    "cut -f2,3,4 mega_slop100_motif01.txt | tail -n +2 > max_chip_uniqMotif_BS_Chmax_refseq_slop100.txt"
   ]
  },
  {
   "cell_type": "markdown",
   "metadata": {},
   "source": [
    "# II. Accuracy Scoring"
   ]
  },
  {
   "cell_type": "markdown",
   "metadata": {},
   "source": [
    "## A. Plot distributions and score against ChIP"
   ]
  },
  {
   "cell_type": "markdown",
   "metadata": {},
   "source": [
    "   each of these sections contains 6 AUROC scores, one for PWM and one for bisulfite for each of mean, max and min variants to handle multiple hits per motif region"
   ]
  },
  {
   "cell_type": "code",
   "execution_count": 19,
   "metadata": {},
   "outputs": [],
   "source": [
    "data=pd.read_csv('uniqMotif_BS_Chmax_refseq.zip',sep='\\t',names=['ChIPTF','pwm','TF','wgbs','W1','gene'])"
   ]
  },
  {
   "cell_type": "markdown",
   "metadata": {},
   "source": [
    "three estimates are taken to reduce multiply characterized links (occurences of TF-gene pairs), as one might expect they are: mean, max and min, presented below"
   ]
  },
  {
   "cell_type": "code",
   "execution_count": 20,
   "metadata": {},
   "outputs": [
    {
     "name": "stderr",
     "output_type": "stream",
     "text": [
      "<ipython-input-20-23e538faf59c>:2: SettingWithCopyWarning: \n",
      "A value is trying to be set on a copy of a slice from a DataFrame\n",
      "\n",
      "See the caveats in the documentation: https://pandas.pydata.org/pandas-docs/stable/user_guide/indexing.html#returning-a-view-versus-a-copy\n",
      "  data.ChIPTF[data.ChIPTF!='0 ']=1\n"
     ]
    },
    {
     "name": "stdout",
     "output_type": "stream",
     "text": [
      "['mean pwm motif=0.6082067034901157', 'mean wgbs motif=0.6393551915608513']\n"
     ]
    },
    {
     "data": {
      "image/png": "[encoded data removed]",
      "text/plain": [
       "<Figure size 576x360 with 1 Axes>"
      ]
     },
     "metadata": {
      "needs_background": "light"
     },
     "output_type": "display_data"
    }
   ],
   "source": [
    "table=[]\n",
    "data.ChIPTF[data.ChIPTF!='0 ']=1\n",
    "data['ChIPTF']=pd.to_numeric(data['ChIPTF'])\n",
    "ss=data.groupby(['TF','gene']).agg({'pwm':'mean',\"W1\":'mean',\"ChIPTF\":'max'})\n",
    "ss.pwm=(ss.pwm-ss.pwm.min())/(ss.pwm.max()-ss.pwm.min())\n",
    "fpr, tpr, thresholds = metrics.roc_curve(ss.ChIPTF, 1-(ss.W1/100))\n",
    "roc_auc=metrics.auc(fpr, tpr)\n",
    "\n",
    "fpr2, tpr2, thresholds2 = metrics.roc_curve(ss.ChIPTF, ss.pwm)\n",
    "roc_auc2=metrics.auc(fpr2, tpr2)\n",
    "\n",
    "print(['mean pwm motif='+str(roc_auc2),'mean wgbs motif='+str(roc_auc)])\n",
    "\n",
    "plt.figure(figsize=(8, 5))\n",
    "\n",
    "ss.W1=np.round(1-(ss.W1/100),decimals=4)\n",
    "ss.pwm=np.round(ss.pwm,decimals=4)\n",
    "\n",
    "tmp=plt.hist(ss.W1,bins=100,label='BS',alpha=.5,log=True)\n",
    "tmp=plt.hist(ss.pwm,bins=100,label='pwm',alpha=.5,log=True)\n",
    "tmp=plt.hist(ss.ChIPTF,bins=100,label='ChIP',alpha=.5,log=True)\n",
    "\n",
    "plt.legend(loc=\"best\")\n",
    "table.append([\"0_mean\",roc_auc2,roc_auc])"
   ]
  },
  {
   "cell_type": "code",
   "execution_count": 194,
   "metadata": {},
   "outputs": [],
   "source": [
    "ss=ss.reset_index() ## save for PANDA runs\n",
    "ss.TF=ss.TF.str.replace('(', '')\n",
    "ss.TF=ss.TF.str.replace(')', '')\n",
    "ss.TF=ss.TF.str.replace(' ', '')\n",
    "ss.gene=ss.gene.str.replace(' ', '')\n",
    "ss[['TF','gene','pwm']].to_csv('mean_pwm_uniqMotif_BS_Chmax_refseq.txt',header=False,index=False,sep='\\t')\n",
    "ss[['TF','gene','W1']].to_csv('mean_wgbs_uniqMotif_BS_Chmax_refseq.txt',header=False,index=False,sep='\\t')"
   ]
  },
  {
   "cell_type": "code",
   "execution_count": 21,
   "metadata": {},
   "outputs": [
    {
     "name": "stdout",
     "output_type": "stream",
     "text": [
      "['max wgbs motif=0.722342834898407', 'max wgbs motif=0.4138085647374004']\n"
     ]
    },
    {
     "data": {
      "image/png": "[encoded data removed]",
      "text/plain": [
       "<Figure size 576x360 with 1 Axes>"
      ]
     },
     "metadata": {
      "needs_background": "light"
     },
     "output_type": "display_data"
    }
   ],
   "source": [
    "ss=data.groupby(['TF','gene']).agg({'pwm':'max',\"W1\":'max',\"ChIPTF\":'max'})\n",
    "ss.pwm=(ss.pwm-ss.pwm.min())/(ss.pwm.max()-ss.pwm.min())\n",
    "fpr, tpr, thresholds = metrics.roc_curve(ss.ChIPTF, 1-(ss.W1/100))\n",
    "roc_auc=metrics.auc(fpr, tpr)\n",
    "\n",
    "fpr2, tpr2, thresholds2 = metrics.roc_curve(ss.ChIPTF, ss.pwm)\n",
    "roc_auc2=metrics.auc(fpr2, tpr2)\n",
    "\n",
    "print(['max pwm motif='+str(roc_auc2),'max wgbs motif='+str(roc_auc)])\n",
    "\n",
    "plt.figure(figsize=(8, 5))\n",
    "\n",
    "ss.W1=np.round(1-(ss.W1/100),decimals=4)\n",
    "ss.pwm=np.round(ss.pwm,decimals=4)\n",
    "\n",
    "tmp=plt.hist(ss.W1,bins=100,label='BS',alpha=.5,log=True)\n",
    "tmp=plt.hist(ss.pwm,bins=100,label='pwm',alpha=.5,log=True)\n",
    "tmp=plt.hist(ss.ChIPTF,bins=100,label='ChIP',alpha=.5,log=True)\n",
    "\n",
    "plt.legend(loc=\"best\")\n",
    "table.append([\"0_max\",roc_auc2,roc_auc])"
   ]
  },
  {
   "cell_type": "code",
   "execution_count": 8,
   "metadata": {},
   "outputs": [],
   "source": [
    "ss=ss.reset_index()\n",
    "ss.TF=ss.TF.str.replace('(', '')\n",
    "ss.TF=ss.TF.str.replace(')', '')\n",
    "ss.TF=ss.TF.str.replace(' ', '')\n",
    "ss.gene=ss.gene.str.replace(' ', '')\n",
    "ss[['TF','gene','pwm']].to_csv('max_pwm_uniqMotif_BS_Chmax_refseq.txt',header=False,index=False,sep='\\t')\n",
    "ss[['TF','gene','W1']].to_csv('max_wgbs_uniqMotif_BS_Chmax_refseq.txt',header=False,index=False,sep='\\t')"
   ]
  },
  {
   "cell_type": "code",
   "execution_count": 22,
   "metadata": {},
   "outputs": [
    {
     "name": "stdout",
     "output_type": "stream",
     "text": [
      "['min wgbs motif=0.38440475373351285', 'min wgbs motif=0.7463724693730607']\n"
     ]
    },
    {
     "data": {
      "image/png": "[encoded data removed]",
      "text/plain": [
       "<Figure size 576x360 with 1 Axes>"
      ]
     },
     "metadata": {
      "needs_background": "light"
     },
     "output_type": "display_data"
    }
   ],
   "source": [
    "ss=data.groupby(['TF','gene']).agg({'pwm':'min',\"W1\":'min',\"ChIPTF\":'max'})\n",
    "ss.pwm=(ss.pwm-ss.pwm.min())/(ss.pwm.max()-ss.pwm.min())\n",
    "\n",
    "fpr, tpr, thresholds = metrics.roc_curve(ss.ChIPTF, 1-(ss.W1/100))\n",
    "roc_auc=metrics.auc(fpr, tpr)\n",
    "\n",
    "fpr2, tpr2, thresholds2 = metrics.roc_curve(ss.ChIPTF, ss.pwm)\n",
    "roc_auc2=metrics.auc(fpr2, tpr2)\n",
    "\n",
    "print(['min pwm motif='+str(roc_auc2),'min wgbs motif='+str(roc_auc)])\n",
    "\n",
    "plt.figure(figsize=(8, 5))\n",
    "\n",
    "ss.W1=np.round(1-(ss.W1/100),decimals=4)\n",
    "ss.pwm=np.round(ss.pwm,decimals=4)\n",
    "\n",
    "tmp=plt.hist(ss.W1,bins=100,label='BS',alpha=.5,log=True)\n",
    "tmp=plt.hist(ss.pwm,bins=100,label='pwm',alpha=.5,log=True)\n",
    "tmp=plt.hist(ss.ChIPTF,bins=100,label='ChIP',alpha=.5,log=True)\n",
    "\n",
    "plt.legend(loc=\"best\")\n",
    "table.append([\"0_min\",roc_auc2,roc_auc])"
   ]
  },
  {
   "cell_type": "code",
   "execution_count": 26,
   "metadata": {},
   "outputs": [],
   "source": [
    "ss=ss.reset_index()\n",
    "ss.TF=ss.TF.str.replace('(', '')\n",
    "ss.TF=ss.TF.str.replace(')', '')\n",
    "ss.TF=ss.TF.str.replace(' ', '')\n",
    "ss.gene=ss.gene.str.replace(' ', '')\n",
    "ss[['TF','gene','pwm']].to_csv('min_pwm_uniqMotif_BS_Chmax_refseq.txt',header=False,index=False,sep='\\t')\n",
    "ss[['TF','gene','W1']].to_csv('min_wgbs_uniqMotif_BS_Chmax_refseq.txt',header=False,index=False,sep='\\t')"
   ]
  },
  {
   "cell_type": "code",
   "execution_count": 23,
   "metadata": {},
   "outputs": [
    {
     "data": {
      "text/plain": [
       "[['0_mean', 0.6082067034901157, 0.6393551915608513],\n",
       " ['0_max', 0.722342834898407, 0.4138085647374004],\n",
       " ['0_min', 0.38440475373351285, 0.7463724693730607]]"
      ]
     },
     "execution_count": 23,
     "metadata": {},
     "output_type": "execute_result"
    }
   ],
   "source": [
    "table"
   ]
  },
  {
   "cell_type": "markdown",
   "metadata": {},
   "source": [
    "## C. intersect Motif +/-100bp with WGBS and ChIPSeq"
   ]
  },
  {
   "cell_type": "markdown",
   "metadata": {},
   "source": [
    "#### WGBS and ChIP can be itersected beforehand"
   ]
  },
  {
   "cell_type": "code",
   "execution_count": null,
   "metadata": {},
   "outputs": [],
   "source": [
    "%% bash\n",
    "#bash MIMB/slop_mega.sh\n",
    "\n",
    "cut -f1,2,3,4,5 uniq_mega_BS_Ch0.txt|uniq >mega_motif.txt\n",
    "\n",
    "../../../../udd/rekrg/Tools/bedtools2/bin/bedtools intersect -wa -wb -a mega_motif.txt -b hg38_tss_coord.txt > mega_motif_refseq.txt\n",
    "\n",
    "../../../../udd/rekrg/Tools/bedtools2/bin/bedtools slop -i mega_motif_refseq.txt -g ../../../../udd/rekrg/Tools/bedtools2/genomes/human.hg38.genome -r 100 -l 100  > slop_mega_motif_refseq.txt\n",
    "\n",
    " # cut -f1,2,4,5,9 slop_mega_motif_refseq.txt |sort -k1,1 -k2,2n| uniq > slop_mega_motif_refseq01.txt\n",
    "\n",
    "../../../../udd/rekrg/Tools/bedtools2/bin/bedtools intersect -wao -a slop_mega_motif_refseq.txt -b GM12878_BS_Ch01.txt > slop_mega_BS_Ch0.txt\n",
    "\n",
    "cut -f1,2,3,4,5,9,13,14,15,16 slop_mega_BS_Ch0.txt |sed -e \"s/(//\" -e \"s/)//\" > slop_mega_BS_Ch1.txt \n",
    "\n",
    "# source /proj/relibs/relib00/conda/bin/activate\n",
    "# source activate mypy3 ## \n",
    "# chmod +x MIMB/take_uniq.py\n",
    "\n",
    "# python MIMB/take_uniq.py\n"
   ]
  },
  {
   "cell_type": "markdown",
   "metadata": {},
   "source": [
    "### the resultant file is highly redundant, and since our intention is to form a motif file, we can collapse replicate information to unique entries by taking the first WGBS value"
   ]
  },
  {
   "cell_type": "code",
   "execution_count": null,
   "metadata": {},
   "outputs": [],
   "source": [
    "import pandas as pd\n",
    "import numpy as np\n",
    "import multiprocessing as mp\n",
    "from functools import partial\n",
    "\n",
    "chunk_size=1000000\n",
    "#for i in range(np.round(2167207740/chunk_size).astype('int')):\n",
    "\n",
    "def take_uniq(i,inputA,outputA):\n",
    "    data=pd.read_csv(inputA,sep=',',names=['only'],header=None,nrows=chunk_size,skiprows=chunk_size*i)\n",
    "    data = data.sort_values(by='only')\n",
    "    first = data.groupby('only').first().reset_index()\n",
    "    print(i/np.round(2167207740/chunk_size))\n",
    "    first.to_csv(outputA,sep='\\t',index=False,header=False,mode='a')\n",
    "\n",
    "indices=range(np.round(2167207740/chunk_size).astype('int'))\n",
    "\n",
    "pool = mp.Pool(20)\n",
    "res  = pool.map(partial(take_uniq,inputA='slop_mega_BS_Ch1.txt',outputA='slop_uniq_mega_BS_Ch1.txt'),indices)\n",
    "\n"
   ]
  },
  {
   "cell_type": "code",
   "execution_count": null,
   "metadata": {},
   "outputs": [],
   "source": []
  },
  {
   "cell_type": "code",
   "execution_count": 85,
   "metadata": {},
   "outputs": [],
   "source": [
    "data=pd.read_csv('~/slop100_Motif_BS_Chmax_refseq.zip',sep='\\t',usecols=[3,4,5,7,8],names=['ChIPTF','pwm','TF','W1','gene'])"
   ]
  },
  {
   "cell_type": "code",
   "execution_count": 86,
   "metadata": {},
   "outputs": [
    {
     "name": "stderr",
     "output_type": "stream",
     "text": [
      "<ipython-input-86-ea0deba583b6>:1: SettingWithCopyWarning: \n",
      "A value is trying to be set on a copy of a slice from a DataFrame\n",
      "\n",
      "See the caveats in the documentation: https://pandas.pydata.org/pandas-docs/stable/user_guide/indexing.html#returning-a-view-versus-a-copy\n",
      "  data.ChIPTF[data.ChIPTF!='0']=1\n"
     ]
    },
    {
     "name": "stdout",
     "output_type": "stream",
     "text": [
      "['max pwm motif=0.678194251897243', 'max wgbs motif=0.43712826246000336']\n"
     ]
    },
    {
     "data": {
      "image/png": "[encoded data removed]",
      "text/plain": [
       "<Figure size 576x360 with 1 Axes>"
      ]
     },
     "metadata": {
      "needs_background": "light"
     },
     "output_type": "display_data"
    }
   ],
   "source": [
    "data.ChIPTF[data.ChIPTF!='0']=1\n",
    "data['ChIPTF']=pd.to_numeric(data['ChIPTF'])\n",
    "ss=data.groupby(['TF','gene']).agg({'pwm':'max',\"W1\":'max',\"ChIPTF\":'max'})\n",
    "ss.pwm=(ss.pwm-ss.pwm.min())/(ss.pwm.max()-ss.pwm.min())\n",
    "fpr, tpr, thresholds = metrics.roc_curve(ss.ChIPTF, 1-(ss.W1/100))\n",
    "roc_auc=metrics.auc(fpr, tpr)\n",
    "\n",
    "fpr2, tpr2, thresholds2 = metrics.roc_curve(ss.ChIPTF, ss.pwm)\n",
    "roc_auc2=metrics.auc(fpr2, tpr2)\n",
    "\n",
    "print(['max pwm motif='+str(roc_auc2),'max wgbs motif='+str(roc_auc)])\n",
    "\n",
    "plt.figure(figsize=(8, 5))\n",
    "\n",
    "ss.W1=np.round(1-(ss.W1/100),decimals=4)\n",
    "ss.pwm=np.round(ss.pwm,decimals=4)\n",
    "\n",
    "tmp=plt.hist(ss.W1,bins=100,label='BS',alpha=.5,log=True)\n",
    "tmp=plt.hist(ss.pwm,bins=100,label='pwm',alpha=.5,log=True)\n",
    "tmp=plt.hist(ss.ChIPTF,bins=100,label='ChIP',alpha=.5,log=True)\n",
    "\n",
    "plt.legend(loc=\"best\")\n",
    "table.append([\"slop_max\",roc_auc2,roc_auc])"
   ]
  },
  {
   "cell_type": "code",
   "execution_count": 26,
   "metadata": {},
   "outputs": [],
   "source": [
    "ss=ss.reset_index()\n",
    "ss.TF=ss.TF.str.replace('(', '')\n",
    "ss.TF=ss.TF.str.replace(')', '')\n",
    "ss.TF=ss.TF.str.replace(' ', '')\n",
    "ss.gene=ss.gene.str.replace(' ', '')\n",
    "ss[['TF','gene','pwm']].to_csv('slop100_max_pwm_uniqMotif_BS_Chmax_refseq.txt',header=False,index=False,sep='\\t')\n",
    "ss[['TF','gene','W1']].to_csv('slop100_max_wgbs_uniqMotif_BS_Chmax_refseq.txt',header=False,index=False,sep='\\t')"
   ]
  },
  {
   "cell_type": "code",
   "execution_count": 87,
   "metadata": {},
   "outputs": [
    {
     "name": "stdout",
     "output_type": "stream",
     "text": [
      "['mean pwm motif=0.5952283123608906', 'mean wgbs motif=0.6527995861446834']\n"
     ]
    },
    {
     "data": {
      "image/png": "[encoded data removed]",
      "text/plain": [
       "<Figure size 576x360 with 1 Axes>"
      ]
     },
     "metadata": {
      "needs_background": "light"
     },
     "output_type": "display_data"
    }
   ],
   "source": [
    "ss=data.groupby(['TF','gene']).agg({'pwm':'mean',\"W1\":'mean',\"ChIPTF\":'max'})\n",
    "ss.pwm=(ss.pwm-ss.pwm.min())/(ss.pwm.max()-ss.pwm.min())\n",
    "fpr, tpr, thresholds = metrics.roc_curve(ss.ChIPTF, 1-(ss.W1/100))\n",
    "roc_auc=metrics.auc(fpr, tpr)\n",
    "\n",
    "fpr2, tpr2, thresholds2 = metrics.roc_curve(ss.ChIPTF, ss.pwm)\n",
    "roc_auc2=metrics.auc(fpr2, tpr2)\n",
    "\n",
    "print(['mean pwm motif='+str(roc_auc2),'mean wgbs motif='+str(roc_auc)])\n",
    "\n",
    "plt.figure(figsize=(8, 5))\n",
    "\n",
    "ss.W1=np.round(1-(ss.W1/100),decimals=4)\n",
    "ss.pwm=np.round(ss.pwm,decimals=4)\n",
    "\n",
    "tmp=plt.hist(ss.W1,bins=100,label='BS',alpha=.5,log=True)\n",
    "tmp=plt.hist(ss.pwm,bins=100,label='pwm',alpha=.5,log=True)\n",
    "tmp=plt.hist(ss.ChIPTF,bins=100,label='ChIP',alpha=.5,log=True)\n",
    "\n",
    "plt.legend(loc=\"best\")\n",
    "table.append([\"slop_mean\",roc_auc2,roc_auc])"
   ]
  },
  {
   "cell_type": "code",
   "execution_count": 24,
   "metadata": {},
   "outputs": [],
   "source": [
    "ss=ss.reset_index()\n",
    "ss.TF=ss.TF.str.replace('(', '')\n",
    "ss.TF=ss.TF.str.replace(')', '')\n",
    "ss.TF=ss.TF.str.replace(' ', '')\n",
    "ss.gene=ss.gene.str.replace(' ', '')\n",
    "ss[['TF','gene','pwm']].to_csv('slop100_mean_pwm_uniqMotif_BS_Chmax_refseq.txt',header=False,index=False,sep='\\t')\n",
    "ss[['TF','gene','W1']].to_csv('slop100_mean_wgbs_uniqMotif_BS_Chmax_refseq.txt',header=False,index=False,sep='\\t')"
   ]
  },
  {
   "cell_type": "code",
   "execution_count": 88,
   "metadata": {},
   "outputs": [
    {
     "name": "stdout",
     "output_type": "stream",
     "text": [
      "['min pwm motif=0.4488681878837647', 'min wgbs motif=0.7509026552761896']\n"
     ]
    },
    {
     "data": {
      "image/png": "[encoded data removed]",
      "text/plain": [
       "<Figure size 576x360 with 1 Axes>"
      ]
     },
     "metadata": {
      "needs_background": "light"
     },
     "output_type": "display_data"
    }
   ],
   "source": [
    "ss=data.groupby(['TF','gene']).agg({'pwm':'min',\"W1\":'min',\"ChIPTF\":'max'})\n",
    "ss.pwm=(ss.pwm-ss.pwm.min())/(ss.pwm.max()-ss.pwm.min())\n",
    "\n",
    "fpr, tpr, thresholds = metrics.roc_curve(ss.ChIPTF, 1-(ss.W1/100))\n",
    "roc_auc=metrics.auc(fpr, tpr)\n",
    "\n",
    "fpr2, tpr2, thresholds2 = metrics.roc_curve(ss.ChIPTF, ss.pwm)\n",
    "roc_auc2=metrics.auc(fpr2, tpr2)\n",
    "\n",
    "print(['min pwm motif='+str(roc_auc2),'min wgbs motif='+str(roc_auc)])\n",
    "\n",
    "plt.figure(figsize=(8, 5))\n",
    "\n",
    "ss.W1=np.round(1-(ss.W1/100),decimals=4)\n",
    "ss.pwm=np.round(ss.pwm,decimals=4)\n",
    "\n",
    "tmp=plt.hist(ss.W1,bins=100,label='BS',alpha=.5,log=True)\n",
    "tmp=plt.hist(ss.pwm,bins=100,label='pwm',alpha=.5,log=True)\n",
    "tmp=plt.hist(ss.ChIPTF,bins=100,label='ChIP',alpha=.5,log=True)\n",
    "\n",
    "plt.legend(loc=\"best\")\n",
    "table.append([\"slop_min\",roc_auc2,roc_auc])"
   ]
  },
  {
   "cell_type": "code",
   "execution_count": 89,
   "metadata": {},
   "outputs": [],
   "source": [
    "ss=ss.reset_index()\n",
    "ss.TF=ss.TF.str.replace('(', '')\n",
    "ss.TF=ss.TF.str.replace(')', '')\n",
    "ss.TF=ss.TF.str.replace(' ', '')\n",
    "ss.gene=ss.gene.str.replace(' ', '')\n",
    "ss[['TF','gene','pwm']].to_csv('slop100_min_pwm_uniqMotif_BS_Chmax_refseq.txt',header=False,index=False,sep='\\t')\n",
    "ss[['TF','gene','W1']].to_csv('slop100_min_wgbs_uniqMotif_BS_Chmax_refseq.txt',header=False,index=False,sep='\\t')"
   ]
  },
  {
   "cell_type": "markdown",
   "metadata": {},
   "source": [
    "# III. Summary"
   ]
  },
  {
   "cell_type": "markdown",
   "metadata": {},
   "source": [
    "We are able to supplement methylation data to the generic motif. However, intersection operations between the limited scales of WGBS when compared to that of the full genome breadth of the motif return a partial motif. Nevertheless this performs well, but only for certain TF-gene links. Rather than further relaxing the window around the motif when intersecting with WGBS as in section II C., we can use what PWM values we would otherwise swap out for WGBS ratios, thus forming a patchwork motif file composed of pwm values and methylation where possible."
   ]
  },
  {
   "cell_type": "code",
   "execution_count": null,
   "metadata": {},
   "outputs": [],
   "source": []
  },
  {
   "cell_type": "markdown",
   "metadata": {},
   "source": [
    "# IV. full scale, partial methyl Motif"
   ]
  },
  {
   "cell_type": "markdown",
   "metadata": {},
   "source": [
    "supplement complete Motif with available methylation and so form a patchwork of values for the PANDA motif backbone.\n",
    "\n",
    "Rather than ommiting motif regions without methylation data, you instead supplement in PWM information, you can increase the AUROC"
   ]
  },
  {
   "cell_type": "code",
   "execution_count": 82,
   "metadata": {},
   "outputs": [
    {
     "name": "stderr",
     "output_type": "stream",
     "text": [
      "<ipython-input-82-fcb46005ea93>:4: SettingWithCopyWarning: \n",
      "A value is trying to be set on a copy of a slice from a DataFrame\n",
      "\n",
      "See the caveats in the documentation: https://pandas.pydata.org/pandas-docs/stable/user_guide/indexing.html#returning-a-view-versus-a-copy\n",
      "  data.ChIPTF[data.ChIPTF!=0]=1\n"
     ]
    }
   ],
   "source": [
    "data=pd.read_csv('../Downloads/su_mega_BS_Ch0.txt',sep='\\t',header=None,nrows=20000000,skiprows=0,names=['chr','start','end','PWM','TF','gene','depth','W1','ChIPTF'])\n",
    "data.PWM=(data.PWM-data.PWM.min())/(data.PWM.max()-data.PWM.min())\n",
    "data.ChIPTF=data.ChIPTF.replace('.',0)\n",
    "data.ChIPTF[data.ChIPTF!=0]=1\n",
    "\n",
    "data1=data[data.W1=='.']\n",
    "data2=data[data.W1!='.']\n",
    "data2.W1 = pd.to_numeric(data2.W1, 'coerce')\n",
    "\n",
    "# data2.ChIPTF = pd.to_numeric(data2.ChIPTF, 'coerce')\n",
    "\n",
    "data1.W1=data1.W1.replace('.',np.NaN)\n",
    "data1.W1=data1.W1.fillna(data.PWM)\n",
    "\n",
    "data2.W1=1-(np.divide(data2.W1,100))\n",
    "data=data1.append(data2)"
   ]
  },
  {
   "cell_type": "code",
   "execution_count": 76,
   "metadata": {},
   "outputs": [
    {
     "name": "stdout",
     "output_type": "stream",
     "text": [
      "['mean pwm motif=0.5882196725633309', 'mean wgbs motif=0.6455700227055471']\n"
     ]
    },
    {
     "data": {
      "text/plain": [
       "<matplotlib.legend.Legend at 0x7fe656522b80>"
      ]
     },
     "execution_count": 76,
     "metadata": {},
     "output_type": "execute_result"
    },
    {
     "data": {
      "image/png": "[encoded data removed]",
      "text/plain": [
       "<Figure size 576x360 with 1 Axes>"
      ]
     },
     "metadata": {
      "needs_background": "light"
     },
     "output_type": "display_data"
    }
   ],
   "source": [
    "ss=data.groupby(['TF','gene']).agg({'PWM':'mean',\"W1\":'mean',\"ChIPTF\":'max'})\n",
    "\n",
    "fpr, tpr, thresholds = metrics.roc_curve(ss.ChIPTF, ss.W1)\n",
    "roc_auc=metrics.auc(fpr, tpr)\n",
    "\n",
    "fpr2, tpr2, thresholds2 = metrics.roc_curve(ss.ChIPTF, ss.PWM)\n",
    "roc_auc2=metrics.auc(fpr2, tpr2)~!\n",
    "\n",
    "print(['mean pwm motif='+str(roc_auc2),'mean wgbs motif='+str(roc_auc)])\n",
    "\n",
    "plt.figure(figsize=(8, 5))\n",
    "\n",
    "tmp=plt.hist(ss.W1,bins=100,label='BS',alpha=.5,log=True)\n",
    "tmp=plt.hist(ss.PWM,bins=100,label='pwm',alpha=.5,log=True)\n",
    "tmp=plt.hist(ss.ChIPTF,bins=100,label='ChIP',alpha=.5,log=True)\n",
    "\n",
    "plt.legend(loc=\"best\")\n",
    "# table.append([\"slop_mean\",roc_auc2,roc_auc])"
   ]
  },
  {
   "cell_type": "code",
   "execution_count": 97,
   "metadata": {},
   "outputs": [
    {
     "name": "stdout",
     "output_type": "stream",
     "text": [
      "['methyl supplement is 0.25119725% of entire Motif, increasing AUROC by 0.0574']\n"
     ]
    }
   ],
   "source": [
    "jeff=np.sum(data.PWM!=data.W1)/data.shape[0]\n",
    "print(['methyl supplement is '+str(jeff)+'% of entire Motif, increasing AUROC by '+str(np.abs(np.round(roc_auc2-roc_auc,4)))])"
   ]
  },
  {
   "cell_type": "code",
   "execution_count": null,
   "metadata": {},
   "outputs": [],
   "source": []
  },
  {
   "cell_type": "code",
   "execution_count": null,
   "metadata": {},
   "outputs": [],
   "source": []
  }
 ],
 "metadata": {
  "kernelspec": {
   "display_name": "Python [conda env:py3] *",
   "language": "python",
   "name": "conda-env-py3-py"
  },
  "language_info": {
   "codemirror_mode": {
    "name": "ipython",
    "version": 3
   },
   "file_extension": ".py",
   "mimetype": "text/x-python",
   "name": "python",
   "nbconvert_exporter": "python",
   "pygments_lexer": "ipython3",
   "version": "3.8.2"
  }
 },
 "nbformat": 4,
 "nbformat_minor": 4
}
