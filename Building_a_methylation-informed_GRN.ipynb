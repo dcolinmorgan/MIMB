{
 "cells": [
  {
   "cell_type": "markdown",
   "metadata": {},
   "source": [
    "# Building a methylation-informed regulatory network\n",
    "Daniel C Morgan<sup>1</sup>\n",
    "\n",
    "<sup>1</sup>Channing Division of Network Medicine, Harvard Medical School, Boston, MA."
   ]
  },
  {
   "cell_type": "markdown",
   "metadata": {},
   "source": [
    "## Introduction\n",
    "\n",
    "Inexpensive, high quality methylation platforms (illumina 450k/850k arrays) have shifted the prospect of integrating such omics into more traditional resources for the inference of gene regulatory networks (GRN). The recent literature has expanded in every direction to take advantage of this new, ubiquitous data source, and as such a wide range of approaches have been proposed. Recent publications range from potential use cases where it makes the most sense to account for DNA methylation in regulatory framework to methodological approaches for doing just that without regard for the research question. This book chapter is organized based upon this continuum, starting with use cases most appropriate for taking advantage of DNA methylation information towards more recent approaches of methodologies and frameworks for appropriately and accurately doing so. Lastly, we shall work through a modern approach for both, namely a meGRN framework and use case example, to see the utility methylation can lend to an investigation.\n",
    "\n",
    "## Loading libraries"
   ]
  },
  {
   "cell_type": "code",
   "execution_count": 1,
   "metadata": {},
   "outputs": [],
   "source": [
    "import matplotlib.pyplot as plt\n",
    "import numpy as np\n",
    "import os\n",
    "import seaborn as sns\n",
    "import scipy\n",
    "import pandas as pd\n",
    "import pybedtools"
   ]
  },
  {
   "cell_type": "markdown",
   "metadata": {},
   "source": [
    "## Motivation\n",
    "\n",
    "The matter involves finding regions of known TF binding which also have methylation events proximal to these locations. For this, one can rely on WGBS chromosome location or array data which illumina provides cg names for, which map to similar locations.\n"
   ]
  },
  {
   "cell_type": "markdown",
   "metadata": {},
   "source": [
    "## Outline:\n",
    "- Brief literature review\n",
    "- Data formats -- what is required, depending on availability\n",
    "  - Chr start stop\n",
    "  - Cg annotation (illumina)\n",
    "  - Other → some method for relating genome location to binding\n",
    "- Pipeline:\n",
    "  0. FIMO scan & open-access data\n",
    "  1. (py)bedtools\n",
    "  2. integrating\n",
    "    1. Integrating into netzoo bipartite\n",
    "    1. Integrating into other GRN framework\n",
    "      1. Smaller GRN models (TF-gene subsets) could just merge with methyl-motif and reduce their estimates where overlap / downweight (GRN estimate x 1- avg meth ratio)\n",
    "  3. Benchmarking against ChIP-seq"
   ]
  },
  {
   "cell_type": "markdown",
   "metadata": {},
   "source": [
    "## Gathering data"
   ]
  },
  {
   "cell_type": "code",
   "execution_count": 2,
   "metadata": {},
   "outputs": [],
   "source": [
    "## A549 WGBS\n",
    "# !wget https://www.encodeproject.org/files/ENCFF005TID/@@download/ENCFF005TID.bed.gz\n",
    "# !gunzip ENCFF279HCL.bed.gz\n",
    "\n",
    "## PPI\n",
    "# !wget https://granddb.s3.amazonaws.com/gpuPANDA/ppi2015_freezeCellLine.txt\n",
    "\n",
    "## remap ChIP (filter to A549)\n",
    "# !wget http://remap.univ-amu.fr/storage/remap2020/hg38/MACS2/remap2020_nr_macs2_hg38_v1_0.bed.gz\n",
    "# !gunzip ENCFF279HCL.bed.gz"
   ]
  },
  {
   "cell_type": "code",
   "execution_count": null,
   "metadata": {},
   "outputs": [],
   "source": [
    "methyl_motif['TF']=methyl_motif['TF'].str.replace(r\"\\(.*\\)\",\"\")\n",
    "m_motif=methyl_motif[['TF','gene','weight','W1','ChIPTF']]\n",
    "# um_motif=m_motif.drop_duplicates()\n",
    "min_um_motif=motif_file.merge(m_motif,on=['TF','gene'])\n",
    "min_um_motif['W1']=np.round(min_um_motif['W1'],decimals=3)\n",
    "mm=min_um_motif.groupby(['TF','gene']).max()\n",
    "mmm=mm.reset_index()\n",
    "mmm[['TF','gene','W1']].to_csv('min_0max_methyl_motif.txt',sep='\\t',header=False,index=False)\n",
    "mmm[['TF','gene','weight_y']].to_csv('min_0max_pwm_motif.txt',sep='\\t',header=False,index=False)\n",
    "# mmm[['TF','gene','ChIPTF']].to_csv('min_0max_ChIPTF_motif.txt',sep='\\t',header=False,index=False)\n",
    "mmm.weight_y=1\n",
    "mmm[['TF','gene','weight_y']].to_csv('min_0one_motif.txt',sep='\\t',header=False,index=False)\n",
    "\n",
    "\n",
    "nn=min_um_motif.groupby(['TF','gene']).mean()\n",
    "nnn=nn.reset_index()\n",
    "nnn[['TF','gene','W1']].to_csv('min_0mean_methyl_motif.txt',sep='\\t',header=False,index=False)\n",
    "nnn[['TF','gene','weight_y']].to_csv('min_0mean_pwm_motif.txt',sep='\\t',header=False,index=False)\n"
   ]
  },
  {
   "cell_type": "code",
   "execution_count": 8,
   "metadata": {},
   "outputs": [],
   "source": [
    "def test_panda(motif,size):\n",
    "    panda_objC=netZooPy.panda.Panda(expression_file=None,#'drive/MyDrive/Colab Notebooks/milipede_bench/Hugo_exp1_lcl.txt',\n",
    "                          motif_file='drive/MyDrive/Colab Notebooks/milipede_bench/'+size+'/'+motif,\n",
    "                          ppi_file='ppi2015_freezeCellLine.txt',\n",
    "                          computing='cpu',modeProcess='intersection',save_memory=False,save_tmp=False,\n",
    "                          precision='single',keep_expression_matrix=False)\n",
    "    panda_objC.export_panda_results.to_csv('bench/'+size+'/output_'+size+'/'+motif,sep='\\t',header=True,index=False)\n",
    "    return panda_objC.export_panda_results"
   ]
  },
  {
   "cell_type": "code",
   "execution_count": null,
   "metadata": {},
   "outputs": [],
   "source": [
    "#mean no buffer\n",
    "test_panda(min_0mean_methyl_motif,0bp_bench)\n",
    "test_panda(min_0mean_pwm_motif,0bp_bench)\n",
    "test_panda(min_0max_one_motif,0bp_bench)\n",
    "\n",
    "##max no buffer\n",
    "test_panda(min_0max_methyl_motif,0bp_bench)\n",
    "test_panda(min_0max_pwm_motif,0bp_bench)\n",
    "# test_panda(min_0max_one_motif,0bp_bench) not needed\n",
    "\n",
    "##mean 100bp buffer\n",
    "test_panda(min_100mean_methyl_motif,100bp_bench)\n",
    "test_panda(min_100mean_pwm_motif,100bp_bench)\n",
    "test_panda(min_100mean_one_motif,100bp_bench)\n",
    "\n",
    "##max 100bp buffer\n",
    "test_panda(min_100max_methyl_motif,100bp_bench)\n",
    "test_panda(min_100max_pwm_motif,100bp_bench)\n",
    "test_panda(min_100max_one_motif,100bp_bench)\n"
   ]
  },
  {
   "cell_type": "code",
   "execution_count": null,
   "metadata": {},
   "outputs": [],
   "source": []
  },
  {
   "cell_type": "code",
   "execution_count": null,
   "metadata": {},
   "outputs": [],
   "source": []
  }
 ],
 "metadata": {
  "kernelspec": {
   "display_name": "Python 3",
   "language": "python",
   "name": "python3"
  },
  "language_info": {
   "codemirror_mode": {
    "name": "ipython",
    "version": 3
   },
   "file_extension": ".py",
   "mimetype": "text/x-python",
   "name": "python",
   "nbconvert_exporter": "python",
   "pygments_lexer": "ipython3",
   "version": "3.8.2"
  }
 },
 "nbformat": 4,
 "nbformat_minor": 4
}
