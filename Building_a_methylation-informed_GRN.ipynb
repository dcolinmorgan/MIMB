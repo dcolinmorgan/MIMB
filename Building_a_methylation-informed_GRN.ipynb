{
 "cells": [
  {
   "cell_type": "markdown",
   "metadata": {},
   "source": [
    "# Building a methylation-informed regulatory network\n",
    "Daniel C Morgan<sup>1</sup>\n",
    "\n",
    "<sup>1</sup>Channing Division of Network Medicine, Harvard Medical School, Boston, MA."
   ]
  },
  {
   "cell_type": "markdown",
   "metadata": {},
   "source": [
    "## Introduction\n",
    "\n",
    "Inexpensive, high quality methylation platforms (illumina 450k/850k arrays) have shifted the prospect of integrating such omics into more traditional resources for the inference of gene regulatory networks (GRN). The recent literature has expanded in every direction to take advantage of this new, ubiquitous data source, and as such a wide range of approaches have been proposed. Recent publications range from potential use cases where it makes the most sense to account for DNA methylation in regulatory framework to methodological approaches for doing just that without regard for the research question. This book chapter is organized based upon this continuum, starting with use cases most appropriate for taking advantage of DNA methylation information towards more recent approaches of methodologies and frameworks for appropriately and accurately doing so. Lastly, we shall work through a modern approach for both, namely a meGRN framework and use case example, to see the utility methylation can lend to an investigation.\n",
    "\n",
    "## Loading libraries"
   ]
  },
  {
   "cell_type": "code",
   "execution_count": 4,
   "metadata": {},
   "outputs": [],
   "source": [
    "import matplotlib.pyplot as plt\n",
    "import numpy as np\n",
    "import os\n",
    "import seaborn as sns\n",
    "import scipy\n",
    "import pandas as pd\n",
    "# from pybedtools import BedTool ##super limited capabilities"
   ]
  },
  {
   "cell_type": "markdown",
   "metadata": {},
   "source": [
    "## Motivation\n",
    "\n",
    "The matter involves finding regions of known TF binding which also have methylation events proximal to these locations. For this, one can rely on WGBS chromosome location or array data which illumina provides cg names for, which map to similar locations.\n"
   ]
  },
  {
   "cell_type": "markdown",
   "metadata": {},
   "source": [
    "## Outline:\n",
    "- Brief literature review\n",
    "- Data formats -- what is required, depending on availability\n",
    "  - Chr start stop\n",
    "  - Cg annotation (illumina)\n",
    "  - Other → some method for relating genome location to binding\n",
    "- Pipeline:\n",
    "  0. FIMO scan & open-access data\n",
    "  1. (py)bedtools\n",
    "  2. integrating\n",
    "    1. Integrating into netzoo bipartite\n",
    "    1. Integrating into other GRN framework\n",
    "      1. Smaller GRN models (TF-gene subsets) could just merge with methyl-motif and reduce their estimates where overlap / downweight (GRN estimate x 1- avg meth ratio)\n",
    "  3. Benchmarking against ChIP-seq"
   ]
  },
  {
   "cell_type": "markdown",
   "metadata": {},
   "source": [
    "## Building PWM Motif"
   ]
  },
  {
   "cell_type": "code",
   "execution_count": null,
   "metadata": {},
   "outputs": [],
   "source": [
    "# !wget https://granddb.s3.amazonaws.com/optPANDA/motifs/regMatPval1e3.csv\n",
    "# data=pd.read_csv('regMatPval1e3.csv')\n",
    "# mdata=pd.melt(data,id_vars=['Unnamed: 0'])\n",
    "# mdata=mdata.rename(columns={'Unnamed: 0':'TF','variable':'gene','value':'val'})\n",
    "# mdata.to_csv('regPval1e3.bed',sep='\\t',header=False)\n",
    "# !rm regMatPval1e3.csv"
   ]
  },
  {
   "cell_type": "code",
   "execution_count": 16,
   "metadata": {},
   "outputs": [],
   "source": []
  },
  {
   "cell_type": "code",
   "execution_count": 17,
   "metadata": {},
   "outputs": [],
   "source": [
    "9500113165461078524477"
   ]
  },
  {
   "cell_type": "code",
   "execution_count": 18,
   "metadata": {},
   "outputs": [],
   "source": [
    "##TSS\n",
    "\n",
    "#https://raw.githubusercontent.com/Shicheng-Guo/AnnotationDatabase/master/hg38/refGene.hg38.TSS.bed"
   ]
  },
  {
   "cell_type": "code",
   "execution_count": 22,
   "metadata": {},
   "outputs": [],
   "source": []
  },
  {
   "cell_type": "markdown",
   "metadata": {},
   "source": [
    "## Gathering data"
   ]
  },
  {
   "cell_type": "code",
   "execution_count": 4,
   "metadata": {},
   "outputs": [
    {
     "data": {
      "text/plain": [
       "'/Users/redmo/MIMB'"
      ]
     },
     "execution_count": 4,
     "metadata": {},
     "output_type": "execute_result"
    }
   ],
   "source": [
    "TF > [TSS > WGBS] > ChIP"
   ]
  },
  {
   "cell_type": "code",
   "execution_count": 1,
   "metadata": {},
   "outputs": [],
   "source": [
    "## A549 WGBS\n",
    "# !wget https://www.encodeproject.org/files/ENCFF005TID/@@download/ENCFF005TID.bed.gz\n",
    "# !gunzip ENCFF005TID.bed.gz\n",
    "\n",
    "# ## PPI\n",
    "# !wget https://granddb.s3.amazonaws.com/gpuPANDA/ppi2015_freezeCellLine.txt\n",
    "\n",
    "## remap ChIP (filter to A549)\n",
    "# !wget http://remap.univ-amu.fr/storage/remap2020/hg38/MACS2/remap2020_all_macs2_hg38_v1_0.bed.gz\n",
    "# !gunzip remap2020_all_macs2_hg38_v1_0.bed.gz\n",
    "\n",
    "# read conversion file\n",
    "# !unzip hg38_Tss_coordinates.csv.zip\n",
    "# geneCorr = pd.read_csv('hg38_Tss_coordinates.csv',sep='\\t')\n",
    "# geneCorr[['chrom','txStart','txEnd','name2']].to_csv('hg38_gene_coord.txt',sep='\\t',header=False,index=False)\n"
   ]
  },
  {
   "cell_type": "code",
   "execution_count": 6,
   "metadata": {},
   "outputs": [],
   "source": [
    "##install bedtools\n",
    "# https://bedtools.readthedocs.io/en/latest/content/installation.html"
   ]
  },
  {
   "cell_type": "code",
   "execution_count": 20,
   "metadata": {},
   "outputs": [],
   "source": [
    "! bedtools intersect -wa -wb -a ENCFF005TID.bed -b hg38_gene_coord.txt |cut -f1,2,3,10,11,15 |uniq> A.txt"
   ]
  },
  {
   "cell_type": "code",
   "execution_count": 21,
   "metadata": {},
   "outputs": [],
   "source": [
    "data=pd.read_csv('M5568_1.02.txt',sep='\\t')"
   ]
  },
  {
   "cell_type": "code",
   "execution_count": 22,
   "metadata": {},
   "outputs": [],
   "source": [
    "data[['sequence_name','start','stop','motif_alt_id']].to_csv('generic_motif.txt',sep='\\t',index=False,header=False)\n"
   ]
  },
  {
   "cell_type": "code",
   "execution_count": 24,
   "metadata": {},
   "outputs": [],
   "source": [
    "! bedtools intersect -wa -wb -a generic_motif.txt -b A.txt > B.txt"
   ]
  },
  {
   "cell_type": "code",
   "execution_count": 5,
   "metadata": {},
   "outputs": [
    {
     "name": "stdout",
     "output_type": "stream",
     "text": [
      " 37526328 A.txt\n",
      "   68840 B.txt\n",
      "  162636 generic_motif.txt\n",
      " 37757804 total\n"
     ]
    }
   ],
   "source": [
    "! wc -l A.txt B.txt generic_motif.txt"
   ]
  },
  {
   "cell_type": "code",
   "execution_count": 8,
   "metadata": {},
   "outputs": [],
   "source": [
    "! bedtools slop -i generic_motif.txt -g human.hg38.genome -r 250 -l 250 > generic_motif_250.txt\n"
   ]
  },
  {
   "cell_type": "code",
   "execution_count": 9,
   "metadata": {},
   "outputs": [],
   "source": [
    "! bedtools intersect -wa -wb -a generic_motif_250.txt -b A.txt > B250.txt"
   ]
  },
  {
   "cell_type": "code",
   "execution_count": 10,
   "metadata": {},
   "outputs": [
    {
     "name": "stdout",
     "output_type": "stream",
     "text": [
      " 37526328 A.txt\n",
      "  814273 B250.txt\n",
      "  162636 generic_motif_250.txt\n",
      " 38503237 total\n"
     ]
    }
   ],
   "source": [
    "! wc -l A.txt B250.txt generic_motif_250.txt"
   ]
  },
  {
   "cell_type": "code",
   "execution_count": 7,
   "metadata": {},
   "outputs": [
    {
     "name": "stdout",
     "output_type": "stream",
     "text": [
      "Error: Unable to open file Motif_BS_Ch.txt. Exiting.\n"
     ]
    }
   ],
   "source": [
    "! bedtools intersect -wa -wb -a Motif_BS_Ch.txt -b hg38_tss_coord.txt > Motif_BS_Chmax_refseq.txt"
   ]
  },
  {
   "cell_type": "code",
   "execution_count": 5,
   "metadata": {},
   "outputs": [
    {
     "name": "stdout",
     "output_type": "stream",
     "text": [
      "wc: uniqMotif_BS_Chmax_refseq.txt: open: No such file or directory\n"
     ]
    }
   ],
   "source": [
    "data=pd.read_csv(uniqMotif_BS_Chmax_refseq.txt,sep='\\t')"
   ]
  },
  {
   "cell_type": "code",
   "execution_count": null,
   "metadata": {},
   "outputs": [],
   "source": [
    "methyl_motif['TF']=methyl_motif['TF'].str.replace(r\"\\(.*\\)\",\"\")\n",
    "m_motif=methyl_motif[['TF','gene','weight','W1','ChIPTF']]\n",
    "# um_motif=m_motif.drop_duplicates()\n",
    "min_um_motif=motif_file.merge(m_motif,on=['TF','gene'])\n",
    "min_um_motif['W1']=np.round(min_um_motif['W1'],decimals=3)\n",
    "mm=min_um_motif.groupby(['TF','gene']).max()\n",
    "mmm=mm.reset_index()\n",
    "mmm[['TF','gene','W1']].to_csv('min_0max_methyl_motif.txt',sep='\\t',header=False,index=False)\n",
    "mmm[['TF','gene','weight_y']].to_csv('min_0max_pwm_motif.txt',sep='\\t',header=False,index=False)\n",
    "# mmm[['TF','gene','ChIPTF']].to_csv('min_0max_ChIPTF_motif.txt',sep='\\t',header=False,index=False)\n",
    "mmm.weight_y=1\n",
    "mmm[['TF','gene','weight_y']].to_csv('min_0one_motif.txt',sep='\\t',header=False,index=False)\n",
    "\n",
    "\n",
    "nn=min_um_motif.groupby(['TF','gene']).mean()\n",
    "nnn=nn.reset_index()\n",
    "nnn[['TF','gene','W1']].to_csv('min_0mean_methyl_motif.txt',sep='\\t',header=False,index=False)\n",
    "nnn[['TF','gene','weight_y']].to_csv('min_0mean_pwm_motif.txt',sep='\\t',header=False,index=False)\n"
   ]
  },
  {
   "cell_type": "code",
   "execution_count": 8,
   "metadata": {},
   "outputs": [],
   "source": [
    "def test_panda(motif,size):\n",
    "    panda_objC=netZooPy.panda.Panda(expression_file=None,#'drive/MyDrive/Colab Notebooks/milipede_bench/Hugo_exp1_lcl.txt',\n",
    "                          motif_file='drive/MyDrive/Colab Notebooks/milipede_bench/'+size+'/'+motif,\n",
    "                          ppi_file='ppi2015_freezeCellLine.txt',\n",
    "                          computing='cpu',modeProcess='intersection',save_memory=False,save_tmp=False,\n",
    "                          precision='single',keep_expression_matrix=False)\n",
    "    panda_objC.export_panda_results.to_csv('bench/'+size+'/output_'+size+'/'+motif,sep='\\t',header=True,index=False)\n",
    "    return panda_objC.export_panda_results"
   ]
  },
  {
   "cell_type": "code",
   "execution_count": null,
   "metadata": {},
   "outputs": [],
   "source": [
    "#mean no buffer\n",
    "test_panda(min_0mean_methyl_motif,0bp_bench)\n",
    "test_panda(min_0mean_pwm_motif,0bp_bench)\n",
    "test_panda(min_0max_one_motif,0bp_bench)\n",
    "\n",
    "##max no buffer\n",
    "test_panda(min_0max_methyl_motif,0bp_bench)\n",
    "test_panda(min_0max_pwm_motif,0bp_bench)\n",
    "# test_panda(min_0max_one_motif,0bp_bench) not needed\n",
    "\n",
    "##mean 100bp buffer\n",
    "test_panda(min_100mean_methyl_motif,100bp_bench)\n",
    "test_panda(min_100mean_pwm_motif,100bp_bench)\n",
    "test_panda(min_100mean_one_motif,100bp_bench)\n",
    "\n",
    "##max 100bp buffer\n",
    "test_panda(min_100max_methyl_motif,100bp_bench)\n",
    "test_panda(min_100max_pwm_motif,100bp_bench)\n",
    "test_panda(min_100max_one_motif,100bp_bench)\n"
   ]
  },
  {
   "cell_type": "code",
   "execution_count": 6,
   "metadata": {},
   "outputs": [
    {
     "data": {
      "text/plain": [
       "498"
      ]
     },
     "execution_count": 6,
     "metadata": {},
     "output_type": "execute_result"
    }
   ],
   "source": [
    "267+231"
   ]
  },
  {
   "cell_type": "code",
   "execution_count": 7,
   "metadata": {},
   "outputs": [
    {
     "data": {
      "text/plain": [
       "644"
      ]
     },
     "execution_count": 7,
     "metadata": {},
     "output_type": "execute_result"
    }
   ],
   "source": [
    "267+377"
   ]
  },
  {
   "cell_type": "code",
   "execution_count": null,
   "metadata": {},
   "outputs": [],
   "source": []
  }
 ],
 "metadata": {
  "kernelspec": {
   "display_name": "Python [conda env:py3] *",
   "language": "python",
   "name": "conda-env-py3-py"
  },
  "language_info": {
   "codemirror_mode": {
    "name": "ipython",
    "version": 3
   },
   "file_extension": ".py",
   "mimetype": "text/x-python",
   "name": "python",
   "nbconvert_exporter": "python",
   "pygments_lexer": "ipython3",
   "version": "3.8.2"
  }
 },
 "nbformat": 4,
 "nbformat_minor": 4
}
