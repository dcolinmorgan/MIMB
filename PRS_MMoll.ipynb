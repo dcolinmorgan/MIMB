{
  "nbformat": 4,
  "nbformat_minor": 0,
  "metadata": {
    "accelerator": "GPU",
    "colab": {
      "name": "PRS_MMoll.ipynb",
      "provenance": [],
      "collapsed_sections": [],
      "machine_shape": "hm",
      "include_colab_link": true
    },
    "kernelspec": {
      "display_name": "Python 3",
      "name": "python3"
    }
  },
  "cells": [
    {
      "cell_type": "markdown",
      "metadata": {
        "id": "view-in-github",
        "colab_type": "text"
      },
      "source": [
        "<a href=\"https://colab.research.google.com/github/dcolinmorgan/MIMB/blob/main/PRS_MMoll.ipynb\" target=\"_parent\"><img src=\"https://colab.research.google.com/assets/colab-badge.svg\" alt=\"Open In Colab\"/></a>"
      ]
    },
    {
      "cell_type": "code",
      "metadata": {
        "id": "pJbYXou6chZf"
      },
      "source": [
        "import os,gc,glob\n",
        "# import s3fs\n",
        "import matplotlib.pyplot as plt\n",
        "import pandas as pd\n",
        "import seaborn as sns\n",
        "import numpy as np\n",
        "from psutil import *\n",
        "import scipy.io\n",
        "from scipy.stats import zscore\n",
        "import datetime\n",
        "from sklearn import metrics\n",
        "import traceback\n",
        "import joblib"
      ],
      "execution_count": 1,
      "outputs": []
    },
    {
      "cell_type": "code",
      "metadata": {
        "colab": {
          "base_uri": "https://localhost:8080/"
        },
        "id": "pGvDckK_Ee0r",
        "outputId": "65473804-d146-4317-e6a9-6caf65a376b5"
      },
      "source": [
        "from google.colab import drive\n",
        "drive.mount('/content/drive')"
      ],
      "execution_count": 2,
      "outputs": [
        {
          "output_type": "stream",
          "text": [
            "Mounted at /content/drive\n"
          ],
          "name": "stdout"
        }
      ]
    },
    {
      "cell_type": "code",
      "metadata": {
        "id": "sOaxdu-XE8Pf"
      },
      "source": [
        "conv=pd.read_csv('drive/MyDrive/PRS_MMoll/conv.txt',sep=' ',names=['gene','sid'])\n",
        "# data=pd.read_csv('drive/MyDrive/PRS_MMoll/fulldata2.txt',sep='\\t',index_col=0)\n",
        "pheno=pd.read_csv('drive/MyDrive/PRS_MMoll/phenoall.txt',sep=' ')\n"
      ],
      "execution_count": 19,
      "outputs": []
    },
    {
      "cell_type": "code",
      "metadata": {
        "id": "abl8NWdcFFdp"
      },
      "source": [
        "data2=data.merge(conv,on=['sid'])\n",
        "data2.index=data2.gene\n",
        "del data2['sid'] \n",
        "del data2['gene']"
      ],
      "execution_count": 25,
      "outputs": []
    },
    {
      "cell_type": "code",
      "metadata": {
        "id": "D35esM_eg7Ry"
      },
      "source": [
        "##switched to mutually exclusive groupings"
      ],
      "execution_count": 322,
      "outputs": []
    },
    {
      "cell_type": "code",
      "metadata": {
        "id": "W-m47_n-gqaC"
      },
      "source": [
        "# pheno2=pheno[['sid','trs','prs_composite']]\n",
        "P1T0=data2[pheno2.sid[(pheno['prs_composite']>0.5) & (pheno['trs']<-0.5)]]\n",
        "P0T0=data2[pheno2.sid[(pheno['prs_composite']<-0.5) & (pheno['trs']<-0.5)]]\n",
        "\n",
        "P1T1=data2[pheno2.sid[(pheno['prs_composite']>0.5) & (pheno['trs']>0.5)]]\n",
        "P0T1=data2[pheno2.sid[(pheno['prs_composite']<-0.5) & (pheno['trs']>0.5)]]"
      ],
      "execution_count": 298,
      "outputs": []
    },
    {
      "cell_type": "code",
      "metadata": {
        "id": "_GysgDIZILKN"
      },
      "source": [
        "P1T0.to_csv('drive/MyDrive/PRS_MMoll/PRS1.txt',sep='\\t',header=False,index=True)\n",
        "P0T0.to_csv('drive/MyDrive/PRS_MMoll/PRS0.txt',sep='\\t',header=False,index=True)\n",
        "P1T1.to_csv('drive/MyDrive/PRS_MMoll/TRS1.txt',sep='\\t',header=False,index=True)\n",
        "P0T1.to_csv('drive/MyDrive/PRS_MMoll/TRS0.txt',sep='\\t',header=False,index=True)"
      ],
      "execution_count": 299,
      "outputs": []
    },
    {
      "cell_type": "code",
      "metadata": {
        "colab": {
          "base_uri": "https://localhost:8080/"
        },
        "id": "ZNXLCj0d8qZd",
        "outputId": "974989b8-5f7c-4e74-cde3-c3fa38bae993"
      },
      "source": [
        "[P1T0.shape[1],P0T0.shape[1],P1T1.shape[1],P0T1.shape[1]]"
      ],
      "execution_count": 300,
      "outputs": [
        {
          "output_type": "execute_result",
          "data": {
            "text/plain": [
              "[192, 269, 230, 203]"
            ]
          },
          "metadata": {
            "tags": []
          },
          "execution_count": 300
        }
      ]
    },
    {
      "cell_type": "code",
      "metadata": {
        "id": "XatVci9IEriR"
      },
      "source": [
        "# !git clone --single-branch --branch milipede_beta https://github.com/dcolinmorgan/netZooPy.git\n",
        "# os.chdir('netZooPy')\n",
        "# !pip install -e ./"
      ],
      "execution_count": 301,
      "outputs": []
    },
    {
      "cell_type": "code",
      "metadata": {
        "id": "8_l5gt1cE8Ln"
      },
      "source": [
        "# import netZooPy\n",
        "# from netZooPy.panda import Panda\n",
        "# from netZooPy.lioness import Lioness\n",
        "# from netZooPy.milipede import Milipede ## just commented out to use reload above\n",
        "# os.chdir('..')"
      ],
      "execution_count": 302,
      "outputs": []
    },
    {
      "cell_type": "code",
      "metadata": {
        "id": "mZYzdkjIhmcM"
      },
      "source": [
        "\n",
        "# ppi=pd.read_csv('https://granddb.s3.amazonaws.com/optPANDA/ppi/ppi_complete.txt',sep='\\t',header=0)\n",
        "\n",
        "# med_mot=pd.read_csv('https://granddb.s3.amazonaws.com/optPANDA/motifs/Hugo_motifCellLine.txt',sep='\\t',header=0)"
      ],
      "execution_count": 303,
      "outputs": []
    },
    {
      "cell_type": "code",
      "metadata": {
        "id": "4iCWiO4Fi8El"
      },
      "source": [
        "# !wget https://granddb.s3.amazonaws.com/optPANDA/ppi/ppi_complete.txt\n",
        "# !wget https://granddb.s3.amazonaws.com/optPANDA/motifs/Hugo_motifCellLine.txt"
      ],
      "execution_count": 304,
      "outputs": []
    },
    {
      "cell_type": "code",
      "metadata": {
        "id": "ebBVgq-Bhmeg"
      },
      "source": [
        "panda_objP1=netZooPy.panda.Panda(expression_file='drive/MyDrive/PRS_MMoll/PRS1.txt',\n",
        "                      # methylation_file='0m_motif.txt',\n",
        "                      motif_file='Hugo_motifCellLine.txt',\n",
        "                      ppi_file='ppi_complete.txt',\n",
        "    computing='gpu',modeProcess='intersection',save_memory=False,save_tmp=False,precision='single',keep_expression_matrix=False)#,save_dir='drive/My Drive/Colab Notebooks/LCL_mili_partial/')#,start=0,end='agg',\n",
        "\n",
        "\n",
        "# milipeed_objA.save_milipeed_results(file='LCL_mili_full/LCL_mili_partial_'+date+'.txt')\n",
        "# panda_objP1.save_panda_results('drive/MyDrive/PRS_MMoll/PRS1.txt')\n",
        "panda_objP1.export_panda_results.to_csv('drive/MyDrive/PRS_MMoll/PRS1.txt')"
      ],
      "execution_count": null,
      "outputs": []
    },
    {
      "cell_type": "code",
      "metadata": {
        "id": "tDgWa3wyjeGK"
      },
      "source": [
        "panda_objP0=netZooPy.panda.Panda(expression_file='drive/MyDrive/PRS_MMoll/PRS0.txt',\n",
        "                      # methylation_file='0m_motif.txt',\n",
        "                      motif_file='Hugo_motifCellLine.txt',\n",
        "                      ppi_file='ppi_complete.txt',\n",
        "    computing='gpu',modeProcess='intersection',save_memory=False,save_tmp=False,precision='single',keep_expression_matrix=False)#,save_dir='drive/My Drive/Colab Notebooks/LCL_mili_partial/')#,start=0,end='agg',\n",
        "    # save_fmt='npy',map_file='netZooPy/tests/milipeed/MotifPrior_CGmap.txt')\n",
        "\n",
        "# milipeed_objA.save_milipeed_results(file='LCL_mili_full/LCL_mili_partial_'+date+'.txt')\n",
        "# panda_objP0.save_panda_results('drive/MyDrive/PRS_MMoll/PRS0.txt')\n",
        "panda_objP0.export_panda_results.to_csv('drive/MyDrive/PRS_MMoll/PRS0.txt')"
      ],
      "execution_count": null,
      "outputs": []
    },
    {
      "cell_type": "code",
      "metadata": {
        "colab": {
          "base_uri": "https://localhost:8080/"
        },
        "id": "SS88fF4nmdqW",
        "outputId": "faf4873f-c620-4e2e-fd65-689e311a5835"
      },
      "source": [
        "P1=pd.read_csv('drive/MyDrive/PRS_MMoll/PRS1.txt',sep=',',index_col=0)\n",
        "P0=pd.read_csv('drive/MyDrive/PRS_MMoll/PRS0.txt',sep=',',index_col=0)"
      ],
      "execution_count": 307,
      "outputs": [
        {
          "output_type": "stream",
          "text": [
            "/usr/local/lib/python3.7/dist-packages/numpy/lib/arraysetops.py:580: FutureWarning: elementwise comparison failed; returning scalar instead, but in the future will perform elementwise comparison\n",
            "  mask |= (ar1 == a)\n"
          ],
          "name": "stderr"
        }
      ]
    },
    {
      "cell_type": "code",
      "metadata": {
        "id": "apZQp5TSmStA"
      },
      "source": [
        "TFsum_4=P1.groupby(['tf']).agg({'force':sum})\n",
        "TFsum_2=P0.groupby(['tf']).agg({'force':sum})\n",
        "TFsum_2['force']=zscore(TFsum_2['force'])\n",
        "TFsum_4['force']=zscore(TFsum_4['force']) ##reduces range from 2500 to 4\n",
        "\n",
        "geneSum_4=P1.groupby(['gene']).agg({'force':sum})\n",
        "geneSum_2=P0.groupby(['gene']).agg({'force':sum})\n",
        "geneSum_4['force']=zscore(geneSum_4['force'])\n",
        "geneSum_2['force']=zscore(geneSum_2['force'])\n",
        "\n",
        "mmm=TFsum_4.merge(TFsum_2, left_on=['tf'], right_on=['tf'])\n",
        "mmmm=geneSum_4.merge(geneSum_2, left_on=['gene'], right_on=['gene'])\n",
        "\n",
        "# del [[P1, P0]]\n",
        "# gc.collect()\n",
        "P1=pd.DataFrame()\n",
        "P0=pd.DataFrame()\n",
        "Panda_FcontFULL=pd.DataFrame()\n",
        "Panda_FcontFULL=pd.DataFrame()\n",
        "\n",
        "\n",
        "mmm['diff']=mmm.force_x-mmm.force_y\n",
        "mmm = mmm.sort_values(by ='diff' )\n",
        "\n",
        "\n",
        "mmmm['diff']=mmmm.force_x-mmmm.force_y\n",
        "mmmm = mmmm.sort_values(by ='diff' )\n",
        "mmm.to_csv('drive/My Drive/PRS_MMoll/TF_zscore_PRS.txt',sep='\\t')\n",
        "mmmm.to_csv('drive/My Drive/PRS_MMoll/gene_zscore_PRS.txt',sep='\\t')"
      ],
      "execution_count": 308,
      "outputs": []
    },
    {
      "cell_type": "code",
      "metadata": {
        "id": "s8SHxLqUjc-t"
      },
      "source": [
        "panda_objT1=netZooPy.panda.Panda(expression_file='drive/MyDrive/PRS_MMoll/TRS1.txt',\n",
        "                      # methylation_file='0m_motif.txt',\n",
        "                      motif_file='Hugo_motifCellLine.txt',\n",
        "                      ppi_file='ppi_complete.txt',\n",
        "    computing='gpu',modeProcess='intersection',save_memory=False,save_tmp=False,precision='single',keep_expression_matrix=False)#,save_dir='drive/My Drive/Colab Notebooks/LCL_mili_partial/')#,start=0,end='agg',\n",
        "    # save_fmt='npy',map_file='netZooPy/tests/milipeed/MotifPrior_CGmap.txt')\n",
        "\n",
        "# milipeed_objA.save_milipeed_results(file='LCL_mili_full/LCL_mili_partial_'+date+'.txt')\n",
        "\n",
        "panda_objT1.export_panda_results.to_csv('drive/MyDrive/PRS_MMoll/TRS1.txt')"
      ],
      "execution_count": null,
      "outputs": []
    },
    {
      "cell_type": "code",
      "metadata": {
        "id": "L1kxfvZOjfBp"
      },
      "source": [
        "panda_objT0=netZooPy.panda.Panda(expression_file='drive/MyDrive/PRS_MMoll/TRS0.txt',\n",
        "                      # methylation_file='0m_motif.txt',\n",
        "                      motif_file='Hugo_motifCellLine.txt',\n",
        "                      ppi_file='ppi_complete.txt',\n",
        "    computing='gpu',modeProcess='intersection',save_memory=False,save_tmp=False,precision='single',keep_expression_matrix=False)#,save_dir='drive/My Drive/Colab Notebooks/LCL_mili_partial/')#,start=0,end='agg',\n",
        "    # save_fmt='npy',map_file='netZooPy/tests/milipeed/MotifPrior_CGmap.txt')\n",
        "\n",
        "# milipeed_objA.save_milipeed_results(file='LCL_mili_full/LCL_mili_partial_'+date+'.txt')\n",
        "\n",
        "panda_objT0.export_panda_results.to_csv('drive/MyDrive/PRS_MMoll/TRS0.txt')"
      ],
      "execution_count": null,
      "outputs": []
    },
    {
      "cell_type": "code",
      "metadata": {
        "colab": {
          "base_uri": "https://localhost:8080/"
        },
        "id": "M_ML-e7gjq98",
        "outputId": "973e6aa1-6a1f-4872-a6ba-fe692322e84a"
      },
      "source": [
        "T1=pd.read_csv('drive/MyDrive/PRS_MMoll/TRS1.txt',sep=',',index_col=0)\n",
        "T0=pd.read_csv('drive/MyDrive/PRS_MMoll/TRS0.txt',sep=',',index_col=0)"
      ],
      "execution_count": 311,
      "outputs": [
        {
          "output_type": "stream",
          "text": [
            "/usr/local/lib/python3.7/dist-packages/numpy/lib/arraysetops.py:580: FutureWarning: elementwise comparison failed; returning scalar instead, but in the future will perform elementwise comparison\n",
            "  mask |= (ar1 == a)\n"
          ],
          "name": "stderr"
        }
      ]
    },
    {
      "cell_type": "code",
      "metadata": {
        "id": "alv7Gy6MpkPd"
      },
      "source": [
        "TFsum_3=T1.groupby(['tf']).agg({'force':sum})\n",
        "TFsum_1=T0.groupby(['tf']).agg({'force':sum})\n",
        "TFsum_1['force']=zscore(TFsum_1['force'])\n",
        "TFsum_3['force']=zscore(TFsum_3['force']) ##reduces range from 1500 to 3\n",
        "\n",
        "geneSum_3=T1.groupby(['gene']).agg({'force':sum})\n",
        "geneSum_1=T0.groupby(['gene']).agg({'force':sum})\n",
        "geneSum_3['force']=zscore(geneSum_3['force'])\n",
        "geneSum_1['force']=zscore(geneSum_1['force'])\n",
        "\n",
        "mmm=TFsum_3.merge(TFsum_1, left_on=['tf'], right_on=['tf'])\n",
        "mmmm=geneSum_3.merge(geneSum_1, left_on=['gene'], right_on=['gene'])\n",
        "\n",
        "# del [[T1, T0]]\n",
        "# gc.collect()\n",
        "T1=pd.DataFrame()\n",
        "T0=pd.DataFrame()\n",
        "# Panda_FcontFULL=pd.DataFrame()\n",
        "# Panda_FcontFULL=pd.DataFrame()\n",
        "\n",
        "\n",
        "mmm['diff']=mmm.force_x-mmm.force_y\n",
        "mmm = mmm.sort_values(by ='diff' )\n",
        "\n",
        "\n",
        "mmmm['diff']=mmmm.force_x-mmmm.force_y\n",
        "mmmm = mmmm.sort_values(by ='diff' )\n",
        "mmm.to_csv('drive/My Drive/PRS_MMoll/TF_zscore_TPR.txt',sep='\\t')\n",
        "mmmm.to_csv('drive/My Drive/PRS_MMoll/gene_zscore_TPR.txt',sep='\\t')"
      ],
      "execution_count": 312,
      "outputs": []
    },
    {
      "cell_type": "code",
      "metadata": {
        "id": "SNuXxic8qDHl"
      },
      "source": [
        ""
      ],
      "execution_count": 312,
      "outputs": []
    },
    {
      "cell_type": "code",
      "metadata": {
        "id": "2y5jf3E5qDMR"
      },
      "source": [
        "pp=pd.read_csv('drive/My Drive/PRS_MMoll/TF_zscore_PRS.txt',sep='\\t',header=0)\n",
        "ppp=pd.read_csv('drive/My Drive/PRS_MMoll/gene_zscore_PRS.txt',sep='\\t',header=0)\n",
        "tt=pd.read_csv('drive/My Drive/PRS_MMoll/TF_zscore_TPR.txt',sep='\\t',header=0)\n",
        "ttt=pd.read_csv('drive/My Drive/PRS_MMoll/gene_zscore_TPR.txt',sep='\\t',header=0)\n",
        "\n",
        "tf_diffB=pp.merge(tt,on='tf')\n",
        "tf_diffB.columns=['TF','prs1','prs0','prs_diff','trs1','trs0','trs_diff']\n",
        "tf_diffB.to_csv('drive/My Drive/PRS_MMoll/TF_PRS-TPS_diff.txt',sep='\\t',index=0)\n",
        "\n",
        "\n",
        "gene_diffB=ppp.merge(ttt,on='gene')\n",
        "gene_diffB.columns=['gene','prs1','prs0','prs_diff','trs1','trs0','trs_diff']\n",
        "gene_diffB.to_csv('drive/My Drive/PRS_MMoll/gene_PRS-TPS_diff.txt',sep='\\t',index=0)\n"
      ],
      "execution_count": 313,
      "outputs": []
    },
    {
      "cell_type": "code",
      "metadata": {
        "colab": {
          "base_uri": "https://localhost:8080/",
          "height": 424
        },
        "id": "thGrBcblAJOo",
        "outputId": "005f1f55-acc5-4f73-a0d9-2a6a1a1136a2"
      },
      "source": [
        "gene_diffB"
      ],
      "execution_count": 314,
      "outputs": [
        {
          "output_type": "execute_result",
          "data": {
            "text/html": [
              "<div>\n",
              "<style scoped>\n",
              "    .dataframe tbody tr th:only-of-type {\n",
              "        vertical-align: middle;\n",
              "    }\n",
              "\n",
              "    .dataframe tbody tr th {\n",
              "        vertical-align: top;\n",
              "    }\n",
              "\n",
              "    .dataframe thead th {\n",
              "        text-align: right;\n",
              "    }\n",
              "</style>\n",
              "<table border=\"1\" class=\"dataframe\">\n",
              "  <thead>\n",
              "    <tr style=\"text-align: right;\">\n",
              "      <th></th>\n",
              "      <th>gene</th>\n",
              "      <th>prs1</th>\n",
              "      <th>prs0</th>\n",
              "      <th>prs_diff</th>\n",
              "      <th>trs1</th>\n",
              "      <th>trs0</th>\n",
              "      <th>trs_diff</th>\n",
              "    </tr>\n",
              "  </thead>\n",
              "  <tbody>\n",
              "    <tr>\n",
              "      <th>0</th>\n",
              "      <td>FAM161B</td>\n",
              "      <td>-1.497206</td>\n",
              "      <td>-0.666567</td>\n",
              "      <td>-0.830639</td>\n",
              "      <td>-1.223802</td>\n",
              "      <td>-1.351331</td>\n",
              "      <td>0.127529</td>\n",
              "    </tr>\n",
              "    <tr>\n",
              "      <th>1</th>\n",
              "      <td>SDR42E1</td>\n",
              "      <td>-0.651921</td>\n",
              "      <td>0.131581</td>\n",
              "      <td>-0.783502</td>\n",
              "      <td>-0.347875</td>\n",
              "      <td>-1.031611</td>\n",
              "      <td>0.683736</td>\n",
              "    </tr>\n",
              "    <tr>\n",
              "      <th>2</th>\n",
              "      <td>CPT1A</td>\n",
              "      <td>0.392555</td>\n",
              "      <td>1.157771</td>\n",
              "      <td>-0.765215</td>\n",
              "      <td>0.680443</td>\n",
              "      <td>0.640788</td>\n",
              "      <td>0.039656</td>\n",
              "    </tr>\n",
              "    <tr>\n",
              "      <th>3</th>\n",
              "      <td>DSC2</td>\n",
              "      <td>-0.582163</td>\n",
              "      <td>0.167542</td>\n",
              "      <td>-0.749705</td>\n",
              "      <td>0.085596</td>\n",
              "      <td>-0.050784</td>\n",
              "      <td>0.136380</td>\n",
              "    </tr>\n",
              "    <tr>\n",
              "      <th>4</th>\n",
              "      <td>OTUD7A</td>\n",
              "      <td>-0.542989</td>\n",
              "      <td>0.206330</td>\n",
              "      <td>-0.749319</td>\n",
              "      <td>-0.183898</td>\n",
              "      <td>-0.131217</td>\n",
              "      <td>-0.052681</td>\n",
              "    </tr>\n",
              "    <tr>\n",
              "      <th>...</th>\n",
              "      <td>...</td>\n",
              "      <td>...</td>\n",
              "      <td>...</td>\n",
              "      <td>...</td>\n",
              "      <td>...</td>\n",
              "      <td>...</td>\n",
              "      <td>...</td>\n",
              "    </tr>\n",
              "    <tr>\n",
              "      <th>10071</th>\n",
              "      <td>ZNF418</td>\n",
              "      <td>0.002159</td>\n",
              "      <td>-0.711816</td>\n",
              "      <td>0.713976</td>\n",
              "      <td>-0.334497</td>\n",
              "      <td>-0.857469</td>\n",
              "      <td>0.522972</td>\n",
              "    </tr>\n",
              "    <tr>\n",
              "      <th>10072</th>\n",
              "      <td>PSMD5-AS1</td>\n",
              "      <td>-0.047857</td>\n",
              "      <td>-0.813682</td>\n",
              "      <td>0.765825</td>\n",
              "      <td>0.219596</td>\n",
              "      <td>-0.049180</td>\n",
              "      <td>0.268776</td>\n",
              "    </tr>\n",
              "    <tr>\n",
              "      <th>10073</th>\n",
              "      <td>INPP5B</td>\n",
              "      <td>1.095575</td>\n",
              "      <td>0.304480</td>\n",
              "      <td>0.791095</td>\n",
              "      <td>0.735146</td>\n",
              "      <td>0.858013</td>\n",
              "      <td>-0.122867</td>\n",
              "    </tr>\n",
              "    <tr>\n",
              "      <th>10074</th>\n",
              "      <td>CDKN2B</td>\n",
              "      <td>-0.029730</td>\n",
              "      <td>-1.014703</td>\n",
              "      <td>0.984974</td>\n",
              "      <td>-0.830742</td>\n",
              "      <td>-0.749772</td>\n",
              "      <td>-0.080970</td>\n",
              "    </tr>\n",
              "    <tr>\n",
              "      <th>10075</th>\n",
              "      <td>EMR1</td>\n",
              "      <td>0.616461</td>\n",
              "      <td>-0.444041</td>\n",
              "      <td>1.060502</td>\n",
              "      <td>-0.219773</td>\n",
              "      <td>0.052496</td>\n",
              "      <td>-0.272269</td>\n",
              "    </tr>\n",
              "  </tbody>\n",
              "</table>\n",
              "<p>10076 rows × 7 columns</p>\n",
              "</div>"
            ],
            "text/plain": [
              "            gene      prs1      prs0  prs_diff      trs1      trs0  trs_diff\n",
              "0        FAM161B -1.497206 -0.666567 -0.830639 -1.223802 -1.351331  0.127529\n",
              "1        SDR42E1 -0.651921  0.131581 -0.783502 -0.347875 -1.031611  0.683736\n",
              "2          CPT1A  0.392555  1.157771 -0.765215  0.680443  0.640788  0.039656\n",
              "3           DSC2 -0.582163  0.167542 -0.749705  0.085596 -0.050784  0.136380\n",
              "4         OTUD7A -0.542989  0.206330 -0.749319 -0.183898 -0.131217 -0.052681\n",
              "...          ...       ...       ...       ...       ...       ...       ...\n",
              "10071     ZNF418  0.002159 -0.711816  0.713976 -0.334497 -0.857469  0.522972\n",
              "10072  PSMD5-AS1 -0.047857 -0.813682  0.765825  0.219596 -0.049180  0.268776\n",
              "10073     INPP5B  1.095575  0.304480  0.791095  0.735146  0.858013 -0.122867\n",
              "10074     CDKN2B -0.029730 -1.014703  0.984974 -0.830742 -0.749772 -0.080970\n",
              "10075       EMR1  0.616461 -0.444041  1.060502 -0.219773  0.052496 -0.272269\n",
              "\n",
              "[10076 rows x 7 columns]"
            ]
          },
          "metadata": {
            "tags": []
          },
          "execution_count": 314
        }
      ]
    },
    {
      "cell_type": "code",
      "metadata": {
        "colab": {
          "base_uri": "https://localhost:8080/",
          "height": 296
        },
        "id": "hHzpBAaorBw2",
        "outputId": "734954c2-eecb-4566-d2d6-0da3585cd1a4"
      },
      "source": [
        "p1=plt.scatter(tf_diffB['prs1'],tf_diffB['prs0'],alpha=.5)\n",
        "p2=plt.scatter(tf_diffB['trs1'],tf_diffB['trs0'],alpha=.25)\n",
        "plt.ylabel(' > 2')\n",
        "plt.xlabel(' < -2')\n",
        "plt.legend((p1, p2),('PRS TF','TRS TF'))"
      ],
      "execution_count": 315,
      "outputs": [
        {
          "output_type": "execute_result",
          "data": {
            "text/plain": [
              "<matplotlib.legend.Legend at 0x7fd5ba6c6410>"
            ]
          },
          "metadata": {
            "tags": []
          },
          "execution_count": 315
        },
        {
          "output_type": "display_data",
          "data": {
            "image/png": "[encoded data removed]",
            "text/plain": [
              "<Figure size 432x288 with 1 Axes>"
            ]
          },
          "metadata": {
            "tags": [],
            "needs_background": "light"
          }
        }
      ]
    },
    {
      "cell_type": "code",
      "metadata": {
        "colab": {
          "base_uri": "https://localhost:8080/",
          "height": 424
        },
        "id": "cQ0itophFh-b",
        "outputId": "30aa55f0-d393-4a9c-d992-13fc1e528669"
      },
      "source": [
        "tf_diffB['ab_diff']=tf_diffB['prs_diff']-tf_diffB['trs_diff']\n",
        "tf_diffB.sort_values(by='ab_diff')"
      ],
      "execution_count": 316,
      "outputs": [
        {
          "output_type": "execute_result",
          "data": {
            "text/html": [
              "<div>\n",
              "<style scoped>\n",
              "    .dataframe tbody tr th:only-of-type {\n",
              "        vertical-align: middle;\n",
              "    }\n",
              "\n",
              "    .dataframe tbody tr th {\n",
              "        vertical-align: top;\n",
              "    }\n",
              "\n",
              "    .dataframe thead th {\n",
              "        text-align: right;\n",
              "    }\n",
              "</style>\n",
              "<table border=\"1\" class=\"dataframe\">\n",
              "  <thead>\n",
              "    <tr style=\"text-align: right;\">\n",
              "      <th></th>\n",
              "      <th>TF</th>\n",
              "      <th>prs1</th>\n",
              "      <th>prs0</th>\n",
              "      <th>prs_diff</th>\n",
              "      <th>trs1</th>\n",
              "      <th>trs0</th>\n",
              "      <th>trs_diff</th>\n",
              "      <th>ab_diff</th>\n",
              "    </tr>\n",
              "  </thead>\n",
              "  <tbody>\n",
              "    <tr>\n",
              "      <th>1</th>\n",
              "      <td>OSR1</td>\n",
              "      <td>-0.762198</td>\n",
              "      <td>-0.717661</td>\n",
              "      <td>-0.044537</td>\n",
              "      <td>-0.718714</td>\n",
              "      <td>-0.768004</td>\n",
              "      <td>0.049290</td>\n",
              "      <td>-0.093828</td>\n",
              "    </tr>\n",
              "    <tr>\n",
              "      <th>0</th>\n",
              "      <td>ZSCAN16</td>\n",
              "      <td>-0.074970</td>\n",
              "      <td>-0.028415</td>\n",
              "      <td>-0.046555</td>\n",
              "      <td>-0.007441</td>\n",
              "      <td>-0.053148</td>\n",
              "      <td>0.045707</td>\n",
              "      <td>-0.092262</td>\n",
              "    </tr>\n",
              "    <tr>\n",
              "      <th>17</th>\n",
              "      <td>NRF1</td>\n",
              "      <td>-0.239032</td>\n",
              "      <td>-0.215259</td>\n",
              "      <td>-0.023773</td>\n",
              "      <td>-0.176066</td>\n",
              "      <td>-0.232461</td>\n",
              "      <td>0.056395</td>\n",
              "      <td>-0.080168</td>\n",
              "    </tr>\n",
              "    <tr>\n",
              "      <th>81</th>\n",
              "      <td>GABPA</td>\n",
              "      <td>0.423717</td>\n",
              "      <td>0.434910</td>\n",
              "      <td>-0.011193</td>\n",
              "      <td>0.474760</td>\n",
              "      <td>0.424395</td>\n",
              "      <td>0.050364</td>\n",
              "      <td>-0.061557</td>\n",
              "    </tr>\n",
              "    <tr>\n",
              "      <th>69</th>\n",
              "      <td>TFCP2L1</td>\n",
              "      <td>-1.193602</td>\n",
              "      <td>-1.181536</td>\n",
              "      <td>-0.012066</td>\n",
              "      <td>-1.146478</td>\n",
              "      <td>-1.190816</td>\n",
              "      <td>0.044338</td>\n",
              "      <td>-0.056404</td>\n",
              "    </tr>\n",
              "    <tr>\n",
              "      <th>...</th>\n",
              "      <td>...</td>\n",
              "      <td>...</td>\n",
              "      <td>...</td>\n",
              "      <td>...</td>\n",
              "      <td>...</td>\n",
              "      <td>...</td>\n",
              "      <td>...</td>\n",
              "      <td>...</td>\n",
              "    </tr>\n",
              "    <tr>\n",
              "      <th>326</th>\n",
              "      <td>ZNF274</td>\n",
              "      <td>0.479776</td>\n",
              "      <td>0.478472</td>\n",
              "      <td>0.001304</td>\n",
              "      <td>0.453402</td>\n",
              "      <td>0.497573</td>\n",
              "      <td>-0.044171</td>\n",
              "      <td>0.045475</td>\n",
              "    </tr>\n",
              "    <tr>\n",
              "      <th>602</th>\n",
              "      <td>NAIF1</td>\n",
              "      <td>-1.224560</td>\n",
              "      <td>-1.240183</td>\n",
              "      <td>0.015623</td>\n",
              "      <td>-1.232077</td>\n",
              "      <td>-1.202172</td>\n",
              "      <td>-0.029905</td>\n",
              "      <td>0.045528</td>\n",
              "    </tr>\n",
              "    <tr>\n",
              "      <th>11</th>\n",
              "      <td>ZBTB7B</td>\n",
              "      <td>3.276494</td>\n",
              "      <td>3.305915</td>\n",
              "      <td>-0.029421</td>\n",
              "      <td>3.345199</td>\n",
              "      <td>3.424762</td>\n",
              "      <td>-0.079562</td>\n",
              "      <td>0.050142</td>\n",
              "    </tr>\n",
              "    <tr>\n",
              "      <th>601</th>\n",
              "      <td>NR1I2</td>\n",
              "      <td>0.350092</td>\n",
              "      <td>0.334642</td>\n",
              "      <td>0.015450</td>\n",
              "      <td>0.312848</td>\n",
              "      <td>0.349615</td>\n",
              "      <td>-0.036767</td>\n",
              "      <td>0.052217</td>\n",
              "    </tr>\n",
              "    <tr>\n",
              "      <th>72</th>\n",
              "      <td>TFCP2</td>\n",
              "      <td>-0.984462</td>\n",
              "      <td>-0.972688</td>\n",
              "      <td>-0.011774</td>\n",
              "      <td>-0.978689</td>\n",
              "      <td>-0.908987</td>\n",
              "      <td>-0.069702</td>\n",
              "      <td>0.057928</td>\n",
              "    </tr>\n",
              "  </tbody>\n",
              "</table>\n",
              "<p>636 rows × 8 columns</p>\n",
              "</div>"
            ],
            "text/plain": [
              "          TF      prs1      prs0  ...      trs0  trs_diff   ab_diff\n",
              "1       OSR1 -0.762198 -0.717661  ... -0.768004  0.049290 -0.093828\n",
              "0    ZSCAN16 -0.074970 -0.028415  ... -0.053148  0.045707 -0.092262\n",
              "17      NRF1 -0.239032 -0.215259  ... -0.232461  0.056395 -0.080168\n",
              "81     GABPA  0.423717  0.434910  ...  0.424395  0.050364 -0.061557\n",
              "69   TFCP2L1 -1.193602 -1.181536  ... -1.190816  0.044338 -0.056404\n",
              "..       ...       ...       ...  ...       ...       ...       ...\n",
              "326   ZNF274  0.479776  0.478472  ...  0.497573 -0.044171  0.045475\n",
              "602    NAIF1 -1.224560 -1.240183  ... -1.202172 -0.029905  0.045528\n",
              "11    ZBTB7B  3.276494  3.305915  ...  3.424762 -0.079562  0.050142\n",
              "601    NR1I2  0.350092  0.334642  ...  0.349615 -0.036767  0.052217\n",
              "72     TFCP2 -0.984462 -0.972688  ... -0.908987 -0.069702  0.057928\n",
              "\n",
              "[636 rows x 8 columns]"
            ]
          },
          "metadata": {
            "tags": []
          },
          "execution_count": 316
        }
      ]
    },
    {
      "cell_type": "code",
      "metadata": {
        "colab": {
          "base_uri": "https://localhost:8080/",
          "height": 297
        },
        "id": "I24WBW4zsJ1T",
        "outputId": "14310804-f0d8-4137-d4f7-b0bf9142342b"
      },
      "source": [
        "p1=plt.scatter(gene_diffB['prs1'],gene_diffB['prs0'],alpha=.5)\n",
        "p2=plt.scatter(gene_diffB['trs1'],gene_diffB['trs0'],alpha=.25)\n",
        "plt.ylabel(' > 2')\n",
        "plt.xlabel(' < -2')\n",
        "plt.legend((p1, p2),('PRS gene','TRS gene'))"
      ],
      "execution_count": 317,
      "outputs": [
        {
          "output_type": "execute_result",
          "data": {
            "text/plain": [
              "<matplotlib.legend.Legend at 0x7fd536d6fb10>"
            ]
          },
          "metadata": {
            "tags": []
          },
          "execution_count": 317
        },
        {
          "output_type": "display_data",
          "data": {
            "image/png": "[encoded data removed]",
            "text/plain": [
              "<Figure size 432x288 with 1 Axes>"
            ]
          },
          "metadata": {
            "tags": [],
            "needs_background": "light"
          }
        }
      ]
    },
    {
      "cell_type": "code",
      "metadata": {
        "colab": {
          "base_uri": "https://localhost:8080/",
          "height": 424
        },
        "id": "_j3NAiXb0mlT",
        "outputId": "4ad89b9d-7ad2-481c-a13c-660e52fe4a5e"
      },
      "source": [
        "gene_diffB['ab_diff']=gene_diffB['prs_diff']-gene_diffB['trs_diff']\n",
        "gene_diffB.sort_values(by='ab_diff')"
      ],
      "execution_count": 318,
      "outputs": [
        {
          "output_type": "execute_result",
          "data": {
            "text/html": [
              "<div>\n",
              "<style scoped>\n",
              "    .dataframe tbody tr th:only-of-type {\n",
              "        vertical-align: middle;\n",
              "    }\n",
              "\n",
              "    .dataframe tbody tr th {\n",
              "        vertical-align: top;\n",
              "    }\n",
              "\n",
              "    .dataframe thead th {\n",
              "        text-align: right;\n",
              "    }\n",
              "</style>\n",
              "<table border=\"1\" class=\"dataframe\">\n",
              "  <thead>\n",
              "    <tr style=\"text-align: right;\">\n",
              "      <th></th>\n",
              "      <th>gene</th>\n",
              "      <th>prs1</th>\n",
              "      <th>prs0</th>\n",
              "      <th>prs_diff</th>\n",
              "      <th>trs1</th>\n",
              "      <th>trs0</th>\n",
              "      <th>trs_diff</th>\n",
              "      <th>ab_diff</th>\n",
              "    </tr>\n",
              "  </thead>\n",
              "  <tbody>\n",
              "    <tr>\n",
              "      <th>1</th>\n",
              "      <td>SDR42E1</td>\n",
              "      <td>-0.651921</td>\n",
              "      <td>0.131581</td>\n",
              "      <td>-0.783502</td>\n",
              "      <td>-0.347875</td>\n",
              "      <td>-1.031611</td>\n",
              "      <td>0.683736</td>\n",
              "      <td>-1.467238</td>\n",
              "    </tr>\n",
              "    <tr>\n",
              "      <th>23</th>\n",
              "      <td>ZEB1-AS1</td>\n",
              "      <td>-1.097811</td>\n",
              "      <td>-0.493759</td>\n",
              "      <td>-0.604052</td>\n",
              "      <td>-0.209783</td>\n",
              "      <td>-0.961462</td>\n",
              "      <td>0.751678</td>\n",
              "      <td>-1.355730</td>\n",
              "    </tr>\n",
              "    <tr>\n",
              "      <th>12</th>\n",
              "      <td>LIX1L</td>\n",
              "      <td>-0.302591</td>\n",
              "      <td>0.377782</td>\n",
              "      <td>-0.680373</td>\n",
              "      <td>0.404390</td>\n",
              "      <td>-0.257370</td>\n",
              "      <td>0.661760</td>\n",
              "      <td>-1.342133</td>\n",
              "    </tr>\n",
              "    <tr>\n",
              "      <th>25</th>\n",
              "      <td>LINC00852</td>\n",
              "      <td>-0.141728</td>\n",
              "      <td>0.445567</td>\n",
              "      <td>-0.587295</td>\n",
              "      <td>0.641673</td>\n",
              "      <td>-0.022860</td>\n",
              "      <td>0.664533</td>\n",
              "      <td>-1.251828</td>\n",
              "    </tr>\n",
              "    <tr>\n",
              "      <th>9</th>\n",
              "      <td>RP1-29C18.8</td>\n",
              "      <td>-0.205155</td>\n",
              "      <td>0.509531</td>\n",
              "      <td>-0.714686</td>\n",
              "      <td>0.617001</td>\n",
              "      <td>0.151839</td>\n",
              "      <td>0.465162</td>\n",
              "      <td>-1.179847</td>\n",
              "    </tr>\n",
              "    <tr>\n",
              "      <th>...</th>\n",
              "      <td>...</td>\n",
              "      <td>...</td>\n",
              "      <td>...</td>\n",
              "      <td>...</td>\n",
              "      <td>...</td>\n",
              "      <td>...</td>\n",
              "      <td>...</td>\n",
              "      <td>...</td>\n",
              "    </tr>\n",
              "    <tr>\n",
              "      <th>10074</th>\n",
              "      <td>CDKN2B</td>\n",
              "      <td>-0.029730</td>\n",
              "      <td>-1.014703</td>\n",
              "      <td>0.984974</td>\n",
              "      <td>-0.830742</td>\n",
              "      <td>-0.749772</td>\n",
              "      <td>-0.080970</td>\n",
              "      <td>1.065944</td>\n",
              "    </tr>\n",
              "    <tr>\n",
              "      <th>10040</th>\n",
              "      <td>P2RY14</td>\n",
              "      <td>-0.213910</td>\n",
              "      <td>-0.758335</td>\n",
              "      <td>0.544426</td>\n",
              "      <td>-0.753673</td>\n",
              "      <td>-0.224183</td>\n",
              "      <td>-0.529490</td>\n",
              "      <td>1.073915</td>\n",
              "    </tr>\n",
              "    <tr>\n",
              "      <th>10008</th>\n",
              "      <td>HRH4</td>\n",
              "      <td>-0.126613</td>\n",
              "      <td>-0.618780</td>\n",
              "      <td>0.492167</td>\n",
              "      <td>-0.757807</td>\n",
              "      <td>-0.130290</td>\n",
              "      <td>-0.627517</td>\n",
              "      <td>1.119684</td>\n",
              "    </tr>\n",
              "    <tr>\n",
              "      <th>10057</th>\n",
              "      <td>ALDH1A1</td>\n",
              "      <td>0.221957</td>\n",
              "      <td>-0.415333</td>\n",
              "      <td>0.637290</td>\n",
              "      <td>-0.469165</td>\n",
              "      <td>0.021139</td>\n",
              "      <td>-0.490305</td>\n",
              "      <td>1.127595</td>\n",
              "    </tr>\n",
              "    <tr>\n",
              "      <th>10075</th>\n",
              "      <td>EMR1</td>\n",
              "      <td>0.616461</td>\n",
              "      <td>-0.444041</td>\n",
              "      <td>1.060502</td>\n",
              "      <td>-0.219773</td>\n",
              "      <td>0.052496</td>\n",
              "      <td>-0.272269</td>\n",
              "      <td>1.332771</td>\n",
              "    </tr>\n",
              "  </tbody>\n",
              "</table>\n",
              "<p>10076 rows × 8 columns</p>\n",
              "</div>"
            ],
            "text/plain": [
              "              gene      prs1      prs0  ...      trs0  trs_diff   ab_diff\n",
              "1          SDR42E1 -0.651921  0.131581  ... -1.031611  0.683736 -1.467238\n",
              "23        ZEB1-AS1 -1.097811 -0.493759  ... -0.961462  0.751678 -1.355730\n",
              "12           LIX1L -0.302591  0.377782  ... -0.257370  0.661760 -1.342133\n",
              "25       LINC00852 -0.141728  0.445567  ... -0.022860  0.664533 -1.251828\n",
              "9      RP1-29C18.8 -0.205155  0.509531  ...  0.151839  0.465162 -1.179847\n",
              "...            ...       ...       ...  ...       ...       ...       ...\n",
              "10074       CDKN2B -0.029730 -1.014703  ... -0.749772 -0.080970  1.065944\n",
              "10040       P2RY14 -0.213910 -0.758335  ... -0.224183 -0.529490  1.073915\n",
              "10008         HRH4 -0.126613 -0.618780  ... -0.130290 -0.627517  1.119684\n",
              "10057      ALDH1A1  0.221957 -0.415333  ...  0.021139 -0.490305  1.127595\n",
              "10075         EMR1  0.616461 -0.444041  ...  0.052496 -0.272269  1.332771\n",
              "\n",
              "[10076 rows x 8 columns]"
            ]
          },
          "metadata": {
            "tags": []
          },
          "execution_count": 318
        }
      ]
    },
    {
      "cell_type": "code",
      "metadata": {
        "colab": {
          "base_uri": "https://localhost:8080/",
          "height": 352
        },
        "id": "64_YVie8FQPi",
        "outputId": "71c54915-8829-4a6b-bc06-dd60b3cb342c"
      },
      "source": [
        "plt.hist(gene_diffB.ab_diff[np.abs(gene_diffB.ab_diff)>1],bins=10)"
      ],
      "execution_count": 319,
      "outputs": [
        {
          "output_type": "execute_result",
          "data": {
            "text/plain": [
              "(array([ 4., 12.,  0.,  0.,  0.,  0.,  0.,  0.,  1.,  6.]),\n",
              " array([-1.46723826, -1.18723729, -0.90723632, -0.62723534, -0.34723437,\n",
              "        -0.06723339,  0.21276758,  0.49276855,  0.77276953,  1.0527705 ,\n",
              "         1.33277148]),\n",
              " <a list of 10 Patch objects>)"
            ]
          },
          "metadata": {
            "tags": []
          },
          "execution_count": 319
        },
        {
          "output_type": "display_data",
          "data": {
            "image/png": "[encoded data removed]",
            "text/plain": [
              "<Figure size 432x288 with 1 Axes>"
            ]
          },
          "metadata": {
            "tags": [],
            "needs_background": "light"
          }
        }
      ]
    },
    {
      "cell_type": "code",
      "metadata": {
        "colab": {
          "base_uri": "https://localhost:8080/"
        },
        "id": "dwwTha7cFn2f",
        "outputId": "6eac1ce7-5c70-4c7d-c288-abcb8681a41e"
      },
      "source": [
        "gene_diffB.gene[np.abs(gene_diffB.ab_diff)>1]"
      ],
      "execution_count": 321,
      "outputs": [
        {
          "output_type": "execute_result",
          "data": {
            "text/plain": [
              "1              SDR42E1\n",
              "5               OTUD7B\n",
              "6        RP11-379H18.1\n",
              "7                GATA3\n",
              "9          RP1-29C18.8\n",
              "12               LIX1L\n",
              "13              ZSWIM5\n",
              "23            ZEB1-AS1\n",
              "25           LINC00852\n",
              "30                SKA3\n",
              "32             TIMM23B\n",
              "42           DPY19L1P1\n",
              "50             NDUFA10\n",
              "88             ZKSCAN7\n",
              "121              TERF2\n",
              "218       RP11-57H14.4\n",
              "10008             HRH4\n",
              "10036           KLHL12\n",
              "10040           P2RY14\n",
              "10055           ZNF641\n",
              "10057          ALDH1A1\n",
              "10074           CDKN2B\n",
              "10075             EMR1\n",
              "Name: gene, dtype: object"
            ]
          },
          "metadata": {
            "tags": []
          },
          "execution_count": 321
        }
      ]
    },
    {
      "cell_type": "code",
      "metadata": {
        "id": "cTDKdn-PJ8Eq"
      },
      "source": [
        ""
      ],
      "execution_count": 320,
      "outputs": []
    }
  ]
}