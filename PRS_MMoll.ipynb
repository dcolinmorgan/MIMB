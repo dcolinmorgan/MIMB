{
  "nbformat": 4,
  "nbformat_minor": 0,
  "metadata": {
    "accelerator": "GPU",
    "colab": {
      "name": "PRS_MMoll.ipynb",
      "provenance": [],
      "collapsed_sections": [],
      "machine_shape": "hm",
      "include_colab_link": true
    },
    "kernelspec": {
      "display_name": "Python 3",
      "name": "python3"
    }
  },
  "cells": [
    {
      "cell_type": "markdown",
      "metadata": {
        "id": "view-in-github",
        "colab_type": "text"
      },
      "source": [
        "<a href=\"https://colab.research.google.com/github/dcolinmorgan/MIMB/blob/main/PRS_MMoll.ipynb\" target=\"_parent\"><img src=\"https://colab.research.google.com/assets/colab-badge.svg\" alt=\"Open In Colab\"/></a>"
      ]
    },
    {
      "cell_type": "code",
      "metadata": {
        "id": "pJbYXou6chZf"
      },
      "source": [
        "import os,gc,glob\n",
        "# import s3fs\n",
        "import matplotlib.pyplot as plt\n",
        "import pandas as pd\n",
        "import seaborn as sns\n",
        "import numpy as np\n",
        "from psutil import *\n",
        "import scipy.io\n",
        "from scipy.stats import zscore\n",
        "import datetime\n",
        "from sklearn import metrics\n",
        "import traceback\n",
        "import joblib"
      ],
      "execution_count": 1,
      "outputs": []
    },
    {
      "cell_type": "code",
      "metadata": {
        "colab": {
          "base_uri": "https://localhost:8080/"
        },
        "id": "pGvDckK_Ee0r",
        "outputId": "65473804-d146-4317-e6a9-6caf65a376b5"
      },
      "source": [
        "from google.colab import drive\n",
        "drive.mount('/content/drive')"
      ],
      "execution_count": 2,
      "outputs": [
        {
          "output_type": "stream",
          "text": [
            "Mounted at /content/drive\n"
          ],
          "name": "stdout"
        }
      ]
    },
    {
      "cell_type": "code",
      "metadata": {
        "id": "sOaxdu-XE8Pf"
      },
      "source": [
        "conv=pd.read_csv('drive/MyDrive/PRS_MMoll/conv.txt',sep=' ',names=['gene','sid'])\n",
        "# data=pd.read_csv('drive/MyDrive/PRS_MMoll/fulldata2.txt',sep='\\t',index_col=0)\n",
        "pheno=pd.read_csv('drive/MyDrive/PRS_MMoll/phenoall.txt',sep=' ')\n"
      ],
      "execution_count": 19,
      "outputs": []
    },
    {
      "cell_type": "code",
      "metadata": {
        "id": "abl8NWdcFFdp"
      },
      "source": [
        "data2=data.merge(conv,on=['sid'])\n",
        "data2.index=data2.gene\n",
        "del data2['sid'] \n",
        "del data2['gene']"
      ],
      "execution_count": 25,
      "outputs": []
    },
    {
      "cell_type": "code",
      "metadata": {
        "id": "D35esM_eg7Ry"
      },
      "source": [
        "data2"
      ],
      "execution_count": null,
      "outputs": []
    },
    {
      "cell_type": "code",
      "metadata": {
        "id": "W-m47_n-gqaC"
      },
      "source": [
        "# pheno2=pheno[['sid','trs','prs_composite']]\n",
        "PRS1=data2[pheno.sid[pheno2['prs_composite']>2]]\n",
        "PRS0=data2[pheno.sid[pheno2['prs_composite']<-2]]\n",
        "\n",
        "TRS1=data2[pheno.sid[pheno2['trs']>2]]\n",
        "TRS0=data2[pheno.sid[pheno2['trs']<-2]]"
      ],
      "execution_count": 229,
      "outputs": []
    },
    {
      "cell_type": "code",
      "metadata": {
        "id": "_GysgDIZILKN"
      },
      "source": [
        "PRS1.to_csv('drive/MyDrive/PRS_MMoll/PRS1.txt',sep='\\t',header=False,index=True)\n",
        "PRS0.to_csv('drive/MyDrive/PRS_MMoll/PRS0.txt',sep='\\t',header=False,index=True)\n",
        "TRS1.to_csv('drive/MyDrive/PRS_MMoll/TRS1.txt',sep='\\t',header=False,index=True)\n",
        "TRS0.to_csv('drive/MyDrive/PRS_MMoll/TRS0.txt',sep='\\t',header=False,index=True)"
      ],
      "execution_count": 230,
      "outputs": []
    },
    {
      "cell_type": "code",
      "metadata": {
        "colab": {
          "base_uri": "https://localhost:8080/"
        },
        "id": "ZNXLCj0d8qZd",
        "outputId": "72d91828-ad78-40bc-8317-c8aca4d3049e"
      },
      "source": [
        "[PRS1.shape[1],PRS0.shape[1],TRS1.shape[1],TRS0.shape[1]]"
      ],
      "execution_count": 231,
      "outputs": [
        {
          "output_type": "execute_result",
          "data": {
            "text/plain": [
              "[57, 54, 90, 27]"
            ]
          },
          "metadata": {
            "tags": []
          },
          "execution_count": 231
        }
      ]
    },
    {
      "cell_type": "code",
      "metadata": {
        "id": "XatVci9IEriR"
      },
      "source": [
        "# !git clone --single-branch --branch milipede_beta https://github.com/dcolinmorgan/netZooPy.git\n",
        "# os.chdir('netZooPy')\n",
        "# !pip install -e ./"
      ],
      "execution_count": 232,
      "outputs": []
    },
    {
      "cell_type": "code",
      "metadata": {
        "id": "8_l5gt1cE8Ln"
      },
      "source": [
        "# import netZooPy\n",
        "# from netZooPy.panda import Panda\n",
        "# from netZooPy.lioness import Lioness\n",
        "# from netZooPy.milipede import Milipede ## just commented out to use reload above\n",
        "# os.chdir('..')"
      ],
      "execution_count": 233,
      "outputs": []
    },
    {
      "cell_type": "code",
      "metadata": {
        "id": "mZYzdkjIhmcM"
      },
      "source": [
        "\n",
        "# ppi=pd.read_csv('https://granddb.s3.amazonaws.com/optPANDA/ppi/ppi_complete.txt',sep='\\t',header=0)\n",
        "\n",
        "# med_mot=pd.read_csv('https://granddb.s3.amazonaws.com/optPANDA/motifs/Hugo_motifCellLine.txt',sep='\\t',header=0)"
      ],
      "execution_count": 234,
      "outputs": []
    },
    {
      "cell_type": "code",
      "metadata": {
        "id": "4iCWiO4Fi8El"
      },
      "source": [
        "# !wget https://granddb.s3.amazonaws.com/optPANDA/ppi/ppi_complete.txt\n",
        "# !wget https://granddb.s3.amazonaws.com/optPANDA/motifs/Hugo_motifCellLine.txt"
      ],
      "execution_count": 235,
      "outputs": []
    },
    {
      "cell_type": "code",
      "metadata": {
        "id": "ebBVgq-Bhmeg"
      },
      "source": [
        "panda_objP1=netZooPy.panda.Panda(expression_file='drive/MyDrive/PRS_MMoll/PRS1.txt',\n",
        "                      # methylation_file='0m_motif.txt',\n",
        "                      motif_file='Hugo_motifCellLine.txt',\n",
        "                      ppi_file='ppi_complete.txt',\n",
        "    computing='gpu',modeProcess='intersection',save_memory=False,save_tmp=False,precision='single',keep_expression_matrix=False)#,save_dir='drive/My Drive/Colab Notebooks/LCL_mili_partial/')#,start=0,end='agg',\n",
        "\n",
        "\n",
        "# milipeed_objA.save_milipeed_results(file='LCL_mili_full/LCL_mili_partial_'+date+'.txt')\n",
        "# panda_objP1.save_panda_results('drive/MyDrive/PRS_MMoll/PRS1.txt')\n",
        "panda_objP1.export_panda_results.to_csv('drive/MyDrive/PRS_MMoll/PRS1.txt')"
      ],
      "execution_count": null,
      "outputs": []
    },
    {
      "cell_type": "code",
      "metadata": {
        "id": "tDgWa3wyjeGK"
      },
      "source": [
        "panda_objP0=netZooPy.panda.Panda(expression_file='drive/MyDrive/PRS_MMoll/PRS0.txt',\n",
        "                      # methylation_file='0m_motif.txt',\n",
        "                      motif_file='Hugo_motifCellLine.txt',\n",
        "                      ppi_file='ppi_complete.txt',\n",
        "    computing='gpu',modeProcess='intersection',save_memory=False,save_tmp=False,precision='single',keep_expression_matrix=False)#,save_dir='drive/My Drive/Colab Notebooks/LCL_mili_partial/')#,start=0,end='agg',\n",
        "    # save_fmt='npy',map_file='netZooPy/tests/milipeed/MotifPrior_CGmap.txt')\n",
        "\n",
        "# milipeed_objA.save_milipeed_results(file='LCL_mili_full/LCL_mili_partial_'+date+'.txt')\n",
        "# panda_objP0.save_panda_results('drive/MyDrive/PRS_MMoll/PRS0.txt')\n",
        "panda_objP0.export_panda_results.to_csv('drive/MyDrive/PRS_MMoll/PRS0.txt')"
      ],
      "execution_count": null,
      "outputs": []
    },
    {
      "cell_type": "code",
      "metadata": {
        "colab": {
          "base_uri": "https://localhost:8080/"
        },
        "id": "SS88fF4nmdqW",
        "outputId": "1df5f022-43af-4aa6-9487-1301225cfe89"
      },
      "source": [
        "FC=pd.read_csv('drive/MyDrive/PRS_MMoll/PRS1.txt',sep=',',index_col=0)\n",
        "FNC=pd.read_csv('drive/MyDrive/PRS_MMoll/PRS0.txt',sep=',',index_col=0)"
      ],
      "execution_count": 238,
      "outputs": [
        {
          "output_type": "stream",
          "text": [
            "/usr/local/lib/python3.7/dist-packages/numpy/lib/arraysetops.py:580: FutureWarning: elementwise comparison failed; returning scalar instead, but in the future will perform elementwise comparison\n",
            "  mask |= (ar1 == a)\n"
          ],
          "name": "stderr"
        }
      ]
    },
    {
      "cell_type": "code",
      "metadata": {
        "id": "apZQp5TSmStA"
      },
      "source": [
        "TFsum_4=FC.groupby(['tf']).agg({'force':sum})\n",
        "TFsum_2=FNC.groupby(['tf']).agg({'force':sum})\n",
        "TFsum_2['force']=zscore(TFsum_2['force'])\n",
        "TFsum_4['force']=zscore(TFsum_4['force']) ##reduces range from 2500 to 4\n",
        "\n",
        "geneSum_4=FC.groupby(['gene']).agg({'force':sum})\n",
        "geneSum_2=FNC.groupby(['gene']).agg({'force':sum})\n",
        "geneSum_4['force']=zscore(geneSum_4['force'])\n",
        "geneSum_2['force']=zscore(geneSum_2['force'])\n",
        "\n",
        "mmm=TFsum_4.merge(TFsum_2, left_on=['tf'], right_on=['tf'])\n",
        "mmmm=geneSum_4.merge(geneSum_2, left_on=['gene'], right_on=['gene'])\n",
        "\n",
        "# del [[FC, FNC]]\n",
        "# gc.collect()\n",
        "FC=pd.DataFrame()\n",
        "FNC=pd.DataFrame()\n",
        "Panda_FcontFULL=pd.DataFrame()\n",
        "Panda_FcontFULL=pd.DataFrame()\n",
        "\n",
        "\n",
        "mmm['diff']=mmm.force_x-mmm.force_y\n",
        "mmm = mmm.sort_values(by ='diff' )\n",
        "\n",
        "\n",
        "mmmm['diff']=mmmm.force_x-mmmm.force_y\n",
        "mmmm = mmmm.sort_values(by ='diff' )\n",
        "mmm.to_csv('drive/My Drive/PRS_MMoll/TF_zscore_PRS.txt',sep='\\t')\n",
        "mmmm.to_csv('drive/My Drive/PRS_MMoll/gene_zscore_PRS.txt',sep='\\t')"
      ],
      "execution_count": 239,
      "outputs": []
    },
    {
      "cell_type": "code",
      "metadata": {
        "id": "s8SHxLqUjc-t"
      },
      "source": [
        "panda_objT1=netZooPy.panda.Panda(expression_file='drive/MyDrive/PRS_MMoll/TRS1.txt',\n",
        "                      # methylation_file='0m_motif.txt',\n",
        "                      motif_file='Hugo_motifCellLine.txt',\n",
        "                      ppi_file='ppi_complete.txt',\n",
        "    computing='gpu',modeProcess='intersection',save_memory=False,save_tmp=False,precision='single',keep_expression_matrix=False)#,save_dir='drive/My Drive/Colab Notebooks/LCL_mili_partial/')#,start=0,end='agg',\n",
        "    # save_fmt='npy',map_file='netZooPy/tests/milipeed/MotifPrior_CGmap.txt')\n",
        "\n",
        "# milipeed_objA.save_milipeed_results(file='LCL_mili_full/LCL_mili_partial_'+date+'.txt')\n",
        "\n",
        "panda_objT1.export_panda_results.to_csv('drive/MyDrive/PRS_MMoll/TRS1.txt')"
      ],
      "execution_count": null,
      "outputs": []
    },
    {
      "cell_type": "code",
      "metadata": {
        "id": "L1kxfvZOjfBp"
      },
      "source": [
        "panda_objT0=netZooPy.panda.Panda(expression_file='drive/MyDrive/PRS_MMoll/TRS0.txt',\n",
        "                      # methylation_file='0m_motif.txt',\n",
        "                      motif_file='Hugo_motifCellLine.txt',\n",
        "                      ppi_file='ppi_complete.txt',\n",
        "    computing='gpu',modeProcess='intersection',save_memory=False,save_tmp=False,precision='single',keep_expression_matrix=False)#,save_dir='drive/My Drive/Colab Notebooks/LCL_mili_partial/')#,start=0,end='agg',\n",
        "    # save_fmt='npy',map_file='netZooPy/tests/milipeed/MotifPrior_CGmap.txt')\n",
        "\n",
        "# milipeed_objA.save_milipeed_results(file='LCL_mili_full/LCL_mili_partial_'+date+'.txt')\n",
        "\n",
        "panda_objT0.export_panda_results.to_csv('drive/MyDrive/PRS_MMoll/TRS0.txt')"
      ],
      "execution_count": null,
      "outputs": []
    },
    {
      "cell_type": "code",
      "metadata": {
        "colab": {
          "base_uri": "https://localhost:8080/"
        },
        "id": "M_ML-e7gjq98",
        "outputId": "96cd1b72-b085-4d2e-81a8-132de291231b"
      },
      "source": [
        "MC=pd.read_csv('drive/MyDrive/PRS_MMoll/TRS1.txt',sep=',',index_col=0)\n",
        "MNC=pd.read_csv('drive/MyDrive/PRS_MMoll/TRS0.txt',sep=',',index_col=0)"
      ],
      "execution_count": 242,
      "outputs": [
        {
          "output_type": "stream",
          "text": [
            "/usr/local/lib/python3.7/dist-packages/numpy/lib/arraysetops.py:580: FutureWarning: elementwise comparison failed; returning scalar instead, but in the future will perform elementwise comparison\n",
            "  mask |= (ar1 == a)\n"
          ],
          "name": "stderr"
        }
      ]
    },
    {
      "cell_type": "code",
      "metadata": {
        "id": "alv7Gy6MpkPd"
      },
      "source": [
        "TFsum_3=MC.groupby(['tf']).agg({'force':sum})\n",
        "TFsum_1=MNC.groupby(['tf']).agg({'force':sum})\n",
        "TFsum_1['force']=zscore(TFsum_1['force'])\n",
        "TFsum_3['force']=zscore(TFsum_3['force']) ##reduces range from 1500 to 3\n",
        "\n",
        "geneSum_3=MC.groupby(['gene']).agg({'force':sum})\n",
        "geneSum_1=MNC.groupby(['gene']).agg({'force':sum})\n",
        "geneSum_3['force']=zscore(geneSum_3['force'])\n",
        "geneSum_1['force']=zscore(geneSum_1['force'])\n",
        "\n",
        "mmm=TFsum_3.merge(TFsum_1, left_on=['tf'], right_on=['tf'])\n",
        "mmmm=geneSum_3.merge(geneSum_1, left_on=['gene'], right_on=['gene'])\n",
        "\n",
        "# del [[MC, MNC]]\n",
        "# gc.collect()\n",
        "MC=pd.DataFrame()\n",
        "MNC=pd.DataFrame()\n",
        "# Panda_FcontFULL=pd.DataFrame()\n",
        "# Panda_FcontFULL=pd.DataFrame()\n",
        "\n",
        "\n",
        "mmm['diff']=mmm.force_x-mmm.force_y\n",
        "mmm = mmm.sort_values(by ='diff' )\n",
        "\n",
        "\n",
        "mmmm['diff']=mmmm.force_x-mmmm.force_y\n",
        "mmmm = mmmm.sort_values(by ='diff' )\n",
        "mmm.to_csv('drive/My Drive/PRS_MMoll/TF_zscore_TPR.txt',sep='\\t')\n",
        "mmmm.to_csv('drive/My Drive/PRS_MMoll/gene_zscore_TPR.txt',sep='\\t')"
      ],
      "execution_count": 243,
      "outputs": []
    },
    {
      "cell_type": "code",
      "metadata": {
        "id": "SNuXxic8qDHl"
      },
      "source": [
        ""
      ],
      "execution_count": 243,
      "outputs": []
    },
    {
      "cell_type": "code",
      "metadata": {
        "id": "2y5jf3E5qDMR"
      },
      "source": [
        "ff=pd.read_csv('drive/My Drive/PRS_MMoll/TF_zscore_PRS.txt',sep='\\t',header=0)\n",
        "fff=pd.read_csv('drive/My Drive/PRS_MMoll/gene_zscore_PRS.txt',sep='\\t',header=0)\n",
        "mm=pd.read_csv('drive/My Drive/PRS_MMoll/TF_zscore_TPR.txt',sep='\\t',header=0)\n",
        "mmm=pd.read_csv('drive/My Drive/PRS_MMoll/gene_zscore_TPR.txt',sep='\\t',header=0)\n",
        "\n",
        "sex_tf_diffB=ff.merge(mm,on='tf')\n",
        "sex_tf_diffB.columns=['TF','F_case','F_cont','Fdiff','M_case','M_cont','Mdiff']\n",
        "sex_tf_diffB.to_csv('drive/My Drive/PRS_MMoll/TF_PRS-TPS_diff.txt',sep='\\t',index=0)\n",
        "\n",
        "\n",
        "sex_gene_diffB=fff.merge(mmm,on='gene')\n",
        "sex_gene_diffB.columns=['gene','F_case','F_cont','Fdiff','M_case','M_cont','Mdiff']\n",
        "sex_gene_diffB.to_csv('drive/My Drive/PRS_MMoll/gene_PRS-TPS_diff.txt',sep='\\t',index=0)\n"
      ],
      "execution_count": 244,
      "outputs": []
    },
    {
      "cell_type": "code",
      "metadata": {
        "id": "tXy6-5JPqxag"
      },
      "source": [
        "# sex_tf_diffA=sex_tf_diffA.sort_values('tf')\n",
        "sex_tf_diffB=sex_tf_diffB.sort_values('TF')\n",
        "# sex_gene_diffA=sex_gene_diffA.sort_values('gene')\n",
        "sex_gene_diffB=sex_gene_diffB.sort_values('gene')"
      ],
      "execution_count": 245,
      "outputs": []
    },
    {
      "cell_type": "code",
      "metadata": {
        "colab": {
          "base_uri": "https://localhost:8080/",
          "height": 424
        },
        "id": "thGrBcblAJOo",
        "outputId": "07cf50c2-a9be-4128-d6b0-89cffc6a4666"
      },
      "source": [
        "sex_tf_diffB"
      ],
      "execution_count": 246,
      "outputs": [
        {
          "output_type": "execute_result",
          "data": {
            "text/html": [
              "<div>\n",
              "<style scoped>\n",
              "    .dataframe tbody tr th:only-of-type {\n",
              "        vertical-align: middle;\n",
              "    }\n",
              "\n",
              "    .dataframe tbody tr th {\n",
              "        vertical-align: top;\n",
              "    }\n",
              "\n",
              "    .dataframe thead th {\n",
              "        text-align: right;\n",
              "    }\n",
              "</style>\n",
              "<table border=\"1\" class=\"dataframe\">\n",
              "  <thead>\n",
              "    <tr style=\"text-align: right;\">\n",
              "      <th></th>\n",
              "      <th>TF</th>\n",
              "      <th>F_case</th>\n",
              "      <th>F_cont</th>\n",
              "      <th>Fdiff</th>\n",
              "      <th>M_case</th>\n",
              "      <th>M_cont</th>\n",
              "      <th>Mdiff</th>\n",
              "    </tr>\n",
              "  </thead>\n",
              "  <tbody>\n",
              "    <tr>\n",
              "      <th>512</th>\n",
              "      <td>AHR</td>\n",
              "      <td>0.192387</td>\n",
              "      <td>0.153793</td>\n",
              "      <td>0.038594</td>\n",
              "      <td>0.261180</td>\n",
              "      <td>0.280738</td>\n",
              "      <td>-0.019558</td>\n",
              "    </tr>\n",
              "    <tr>\n",
              "      <th>533</th>\n",
              "      <td>AIRE</td>\n",
              "      <td>0.484395</td>\n",
              "      <td>0.442249</td>\n",
              "      <td>0.042146</td>\n",
              "      <td>0.545936</td>\n",
              "      <td>0.563405</td>\n",
              "      <td>-0.017468</td>\n",
              "    </tr>\n",
              "    <tr>\n",
              "      <th>610</th>\n",
              "      <td>ALX1</td>\n",
              "      <td>0.270317</td>\n",
              "      <td>0.209309</td>\n",
              "      <td>0.061008</td>\n",
              "      <td>0.332964</td>\n",
              "      <td>0.349821</td>\n",
              "      <td>-0.016858</td>\n",
              "    </tr>\n",
              "    <tr>\n",
              "      <th>563</th>\n",
              "      <td>ALX3</td>\n",
              "      <td>0.169611</td>\n",
              "      <td>0.120858</td>\n",
              "      <td>0.048754</td>\n",
              "      <td>0.239453</td>\n",
              "      <td>0.264331</td>\n",
              "      <td>-0.024878</td>\n",
              "    </tr>\n",
              "    <tr>\n",
              "      <th>550</th>\n",
              "      <td>ALX4</td>\n",
              "      <td>0.125669</td>\n",
              "      <td>0.080054</td>\n",
              "      <td>0.045616</td>\n",
              "      <td>0.188520</td>\n",
              "      <td>0.209740</td>\n",
              "      <td>-0.021220</td>\n",
              "    </tr>\n",
              "    <tr>\n",
              "      <th>...</th>\n",
              "      <td>...</td>\n",
              "      <td>...</td>\n",
              "      <td>...</td>\n",
              "      <td>...</td>\n",
              "      <td>...</td>\n",
              "      <td>...</td>\n",
              "      <td>...</td>\n",
              "    </tr>\n",
              "    <tr>\n",
              "      <th>625</th>\n",
              "      <td>ZNF75A</td>\n",
              "      <td>0.443660</td>\n",
              "      <td>0.369056</td>\n",
              "      <td>0.074604</td>\n",
              "      <td>0.330208</td>\n",
              "      <td>0.293696</td>\n",
              "      <td>0.036512</td>\n",
              "    </tr>\n",
              "    <tr>\n",
              "      <th>247</th>\n",
              "      <td>ZNF784</td>\n",
              "      <td>-0.555954</td>\n",
              "      <td>-0.547430</td>\n",
              "      <td>-0.008523</td>\n",
              "      <td>-0.568471</td>\n",
              "      <td>-0.562222</td>\n",
              "      <td>-0.006249</td>\n",
              "    </tr>\n",
              "    <tr>\n",
              "      <th>94</th>\n",
              "      <td>ZSCAN10</td>\n",
              "      <td>-0.387073</td>\n",
              "      <td>-0.338149</td>\n",
              "      <td>-0.048924</td>\n",
              "      <td>-0.393283</td>\n",
              "      <td>-0.395436</td>\n",
              "      <td>0.002153</td>\n",
              "    </tr>\n",
              "    <tr>\n",
              "      <th>244</th>\n",
              "      <td>ZSCAN16</td>\n",
              "      <td>-0.035496</td>\n",
              "      <td>-0.025572</td>\n",
              "      <td>-0.009924</td>\n",
              "      <td>-0.012203</td>\n",
              "      <td>-0.056916</td>\n",
              "      <td>0.044712</td>\n",
              "    </tr>\n",
              "    <tr>\n",
              "      <th>234</th>\n",
              "      <td>ZSCAN4</td>\n",
              "      <td>-0.087078</td>\n",
              "      <td>-0.073422</td>\n",
              "      <td>-0.013656</td>\n",
              "      <td>-0.124991</td>\n",
              "      <td>-0.126202</td>\n",
              "      <td>0.001211</td>\n",
              "    </tr>\n",
              "  </tbody>\n",
              "</table>\n",
              "<p>636 rows × 7 columns</p>\n",
              "</div>"
            ],
            "text/plain": [
              "          TF    F_case    F_cont     Fdiff    M_case    M_cont     Mdiff\n",
              "512      AHR  0.192387  0.153793  0.038594  0.261180  0.280738 -0.019558\n",
              "533     AIRE  0.484395  0.442249  0.042146  0.545936  0.563405 -0.017468\n",
              "610     ALX1  0.270317  0.209309  0.061008  0.332964  0.349821 -0.016858\n",
              "563     ALX3  0.169611  0.120858  0.048754  0.239453  0.264331 -0.024878\n",
              "550     ALX4  0.125669  0.080054  0.045616  0.188520  0.209740 -0.021220\n",
              "..       ...       ...       ...       ...       ...       ...       ...\n",
              "625   ZNF75A  0.443660  0.369056  0.074604  0.330208  0.293696  0.036512\n",
              "247   ZNF784 -0.555954 -0.547430 -0.008523 -0.568471 -0.562222 -0.006249\n",
              "94   ZSCAN10 -0.387073 -0.338149 -0.048924 -0.393283 -0.395436  0.002153\n",
              "244  ZSCAN16 -0.035496 -0.025572 -0.009924 -0.012203 -0.056916  0.044712\n",
              "234   ZSCAN4 -0.087078 -0.073422 -0.013656 -0.124991 -0.126202  0.001211\n",
              "\n",
              "[636 rows x 7 columns]"
            ]
          },
          "metadata": {
            "tags": []
          },
          "execution_count": 246
        }
      ]
    },
    {
      "cell_type": "code",
      "metadata": {
        "colab": {
          "base_uri": "https://localhost:8080/",
          "height": 296
        },
        "id": "hHzpBAaorBw2",
        "outputId": "56604226-192d-4208-87fe-3807c46f43fe"
      },
      "source": [
        "p1=plt.scatter(sex_tf_diffB['F_case'],sex_tf_diffB['F_cont'],alpha=.5)\n",
        "p2=plt.scatter(sex_tf_diffB['M_case'],sex_tf_diffB['M_cont'],alpha=.25)\n",
        "plt.ylabel(' > 2')\n",
        "plt.xlabel(' < -2')\n",
        "plt.legend((p1, p2),('PRS TF','TRS TF'))"
      ],
      "execution_count": 249,
      "outputs": [
        {
          "output_type": "execute_result",
          "data": {
            "text/plain": [
              "<matplotlib.legend.Legend at 0x7fd6abaf0810>"
            ]
          },
          "metadata": {
            "tags": []
          },
          "execution_count": 249
        },
        {
          "output_type": "display_data",
          "data": {
            "image/png": "[encoded data removed]",
            "text/plain": [
              "<Figure size 432x288 with 1 Axes>"
            ]
          },
          "metadata": {
            "tags": [],
            "needs_background": "light"
          }
        }
      ]
    },
    {
      "cell_type": "code",
      "metadata": {
        "colab": {
          "base_uri": "https://localhost:8080/",
          "height": 424
        },
        "id": "cQ0itophFh-b",
        "outputId": "42a65b33-e02e-4bed-9745-595de7397dc9"
      },
      "source": [
        "sex_tf_diffB['ab_diff']=sex_tf_diffB['Fdiff']-sex_tf_diffB['Mdiff']\n",
        "sex_tf_diffB.sort_values(by='ab_diff')"
      ],
      "execution_count": 256,
      "outputs": [
        {
          "output_type": "execute_result",
          "data": {
            "text/html": [
              "<div>\n",
              "<style scoped>\n",
              "    .dataframe tbody tr th:only-of-type {\n",
              "        vertical-align: middle;\n",
              "    }\n",
              "\n",
              "    .dataframe tbody tr th {\n",
              "        vertical-align: top;\n",
              "    }\n",
              "\n",
              "    .dataframe thead th {\n",
              "        text-align: right;\n",
              "    }\n",
              "</style>\n",
              "<table border=\"1\" class=\"dataframe\">\n",
              "  <thead>\n",
              "    <tr style=\"text-align: right;\">\n",
              "      <th></th>\n",
              "      <th>TF</th>\n",
              "      <th>F_case</th>\n",
              "      <th>F_cont</th>\n",
              "      <th>Fdiff</th>\n",
              "      <th>M_case</th>\n",
              "      <th>M_cont</th>\n",
              "      <th>Mdiff</th>\n",
              "      <th>ab_diff</th>\n",
              "    </tr>\n",
              "  </thead>\n",
              "  <tbody>\n",
              "    <tr>\n",
              "      <th>0</th>\n",
              "      <td>PURA</td>\n",
              "      <td>1.744944</td>\n",
              "      <td>1.896916</td>\n",
              "      <td>-0.151971</td>\n",
              "      <td>1.683525</td>\n",
              "      <td>1.695937</td>\n",
              "      <td>-0.012411</td>\n",
              "      <td>-0.139560</td>\n",
              "    </tr>\n",
              "    <tr>\n",
              "      <th>1</th>\n",
              "      <td>ZNF281</td>\n",
              "      <td>3.112136</td>\n",
              "      <td>3.256927</td>\n",
              "      <td>-0.144791</td>\n",
              "      <td>3.021278</td>\n",
              "      <td>3.027224</td>\n",
              "      <td>-0.005946</td>\n",
              "      <td>-0.138845</td>\n",
              "    </tr>\n",
              "    <tr>\n",
              "      <th>4</th>\n",
              "      <td>MAZ</td>\n",
              "      <td>3.636303</td>\n",
              "      <td>3.776831</td>\n",
              "      <td>-0.140528</td>\n",
              "      <td>3.537865</td>\n",
              "      <td>3.541068</td>\n",
              "      <td>-0.003203</td>\n",
              "      <td>-0.137324</td>\n",
              "    </tr>\n",
              "    <tr>\n",
              "      <th>3</th>\n",
              "      <td>ZNF148</td>\n",
              "      <td>3.247254</td>\n",
              "      <td>3.388467</td>\n",
              "      <td>-0.141214</td>\n",
              "      <td>3.159084</td>\n",
              "      <td>3.163018</td>\n",
              "      <td>-0.003935</td>\n",
              "      <td>-0.137279</td>\n",
              "    </tr>\n",
              "    <tr>\n",
              "      <th>2</th>\n",
              "      <td>ZNF263</td>\n",
              "      <td>3.362950</td>\n",
              "      <td>3.507477</td>\n",
              "      <td>-0.144527</td>\n",
              "      <td>3.290386</td>\n",
              "      <td>3.301328</td>\n",
              "      <td>-0.010942</td>\n",
              "      <td>-0.133585</td>\n",
              "    </tr>\n",
              "    <tr>\n",
              "      <th>...</th>\n",
              "      <td>...</td>\n",
              "      <td>...</td>\n",
              "      <td>...</td>\n",
              "      <td>...</td>\n",
              "      <td>...</td>\n",
              "      <td>...</td>\n",
              "      <td>...</td>\n",
              "      <td>...</td>\n",
              "    </tr>\n",
              "    <tr>\n",
              "      <th>630</th>\n",
              "      <td>TBPL2</td>\n",
              "      <td>1.575563</td>\n",
              "      <td>1.492985</td>\n",
              "      <td>0.082579</td>\n",
              "      <td>1.635900</td>\n",
              "      <td>1.652633</td>\n",
              "      <td>-0.016733</td>\n",
              "      <td>0.099312</td>\n",
              "    </tr>\n",
              "    <tr>\n",
              "      <th>631</th>\n",
              "      <td>SIX5</td>\n",
              "      <td>0.065324</td>\n",
              "      <td>-0.026688</td>\n",
              "      <td>0.092013</td>\n",
              "      <td>-0.031892</td>\n",
              "      <td>-0.023911</td>\n",
              "      <td>-0.007981</td>\n",
              "      <td>0.099994</td>\n",
              "    </tr>\n",
              "    <tr>\n",
              "      <th>579</th>\n",
              "      <td>OSR1</td>\n",
              "      <td>-0.742643</td>\n",
              "      <td>-0.795102</td>\n",
              "      <td>0.052459</td>\n",
              "      <td>-0.871249</td>\n",
              "      <td>-0.790436</td>\n",
              "      <td>-0.080813</td>\n",
              "      <td>0.133272</td>\n",
              "    </tr>\n",
              "    <tr>\n",
              "      <th>627</th>\n",
              "      <td>ZBTB33</td>\n",
              "      <td>-0.799604</td>\n",
              "      <td>-0.876128</td>\n",
              "      <td>0.076524</td>\n",
              "      <td>-0.867748</td>\n",
              "      <td>-0.776770</td>\n",
              "      <td>-0.090978</td>\n",
              "      <td>0.167502</td>\n",
              "    </tr>\n",
              "    <tr>\n",
              "      <th>624</th>\n",
              "      <td>YY1</td>\n",
              "      <td>0.644819</td>\n",
              "      <td>0.572250</td>\n",
              "      <td>0.072569</td>\n",
              "      <td>0.566001</td>\n",
              "      <td>0.718517</td>\n",
              "      <td>-0.152517</td>\n",
              "      <td>0.225086</td>\n",
              "    </tr>\n",
              "  </tbody>\n",
              "</table>\n",
              "<p>636 rows × 8 columns</p>\n",
              "</div>"
            ],
            "text/plain": [
              "         TF    F_case    F_cont  ...    M_cont     Mdiff   ab_diff\n",
              "0      PURA  1.744944  1.896916  ...  1.695937 -0.012411 -0.139560\n",
              "1    ZNF281  3.112136  3.256927  ...  3.027224 -0.005946 -0.138845\n",
              "4       MAZ  3.636303  3.776831  ...  3.541068 -0.003203 -0.137324\n",
              "3    ZNF148  3.247254  3.388467  ...  3.163018 -0.003935 -0.137279\n",
              "2    ZNF263  3.362950  3.507477  ...  3.301328 -0.010942 -0.133585\n",
              "..      ...       ...       ...  ...       ...       ...       ...\n",
              "630   TBPL2  1.575563  1.492985  ...  1.652633 -0.016733  0.099312\n",
              "631    SIX5  0.065324 -0.026688  ... -0.023911 -0.007981  0.099994\n",
              "579    OSR1 -0.742643 -0.795102  ... -0.790436 -0.080813  0.133272\n",
              "627  ZBTB33 -0.799604 -0.876128  ... -0.776770 -0.090978  0.167502\n",
              "624     YY1  0.644819  0.572250  ...  0.718517 -0.152517  0.225086\n",
              "\n",
              "[636 rows x 8 columns]"
            ]
          },
          "metadata": {
            "tags": []
          },
          "execution_count": 256
        }
      ]
    },
    {
      "cell_type": "code",
      "metadata": {
        "colab": {
          "base_uri": "https://localhost:8080/",
          "height": 296
        },
        "id": "I24WBW4zsJ1T",
        "outputId": "7d931f32-b43e-45cd-8257-51a7f6861071"
      },
      "source": [
        "p1=plt.scatter(sex_gene_diffB['F_case'],sex_gene_diffB['F_cont'],alpha=.5)\n",
        "p2=plt.scatter(sex_gene_diffB['M_case'],sex_gene_diffB['M_cont'],alpha=.25)\n",
        "plt.ylabel(' > 2')\n",
        "plt.xlabel(' < -2')\n",
        "plt.legend((p1, p2),('PRS gene','TRS gene'))"
      ],
      "execution_count": 250,
      "outputs": [
        {
          "output_type": "execute_result",
          "data": {
            "text/plain": [
              "<matplotlib.legend.Legend at 0x7fd63541e710>"
            ]
          },
          "metadata": {
            "tags": []
          },
          "execution_count": 250
        },
        {
          "output_type": "display_data",
          "data": {
            "image/png": "[encoded data removed]",
            "text/plain": [
              "<Figure size 432x288 with 1 Axes>"
            ]
          },
          "metadata": {
            "tags": [],
            "needs_background": "light"
          }
        }
      ]
    },
    {
      "cell_type": "code",
      "metadata": {
        "id": "_j3NAiXb0mlT"
      },
      "source": [
        "sex_gene_diffB['ab_diff']=sex_gene_diffB['Fdiff']-sex_gene_diffB['Mdiff']\n",
        "sex_gene_diffB.sort_values(by='ab_diff')"
      ],
      "execution_count": null,
      "outputs": []
    },
    {
      "cell_type": "code",
      "metadata": {
        "colab": {
          "base_uri": "https://localhost:8080/",
          "height": 352
        },
        "id": "64_YVie8FQPi",
        "outputId": "4a815cc9-e96e-4fa9-b110-f129d6f642f4"
      },
      "source": [
        "plt.hist(sex_gene_diffB.ab_diff[np.abs(sex_gene_diffB.ab_diff)>1],bins=10)"
      ],
      "execution_count": 262,
      "outputs": [
        {
          "output_type": "execute_result",
          "data": {
            "text/plain": [
              "(array([  1.,  31., 122.,   0.,   0.,   0.,   0., 148.,  68.,  11.]),\n",
              " array([-2.26970411, -1.82239144, -1.37507877, -0.92776609, -0.48045342,\n",
              "        -0.03314075,  0.41417193,  0.8614846 ,  1.30879727,  1.75610995,\n",
              "         2.20342262]),\n",
              " <a list of 10 Patch objects>)"
            ]
          },
          "metadata": {
            "tags": []
          },
          "execution_count": 262
        },
        {
          "output_type": "display_data",
          "data": {
            "image/png": "[encoded data removed]",
            "text/plain": [
              "<Figure size 432x288 with 1 Axes>"
            ]
          },
          "metadata": {
            "tags": [],
            "needs_background": "light"
          }
        }
      ]
    },
    {
      "cell_type": "code",
      "metadata": {
        "colab": {
          "base_uri": "https://localhost:8080/"
        },
        "id": "dwwTha7cFn2f",
        "outputId": "269d9afd-638d-4d9b-d32f-d0777a3eda2c"
      },
      "source": [
        "sex_gene_diffB.gene[np.abs(sex_gene_diffB.ab_diff)>2]"
      ],
      "execution_count": 265,
      "outputs": [
        {
          "output_type": "execute_result",
          "data": {
            "text/plain": [
              "1           DHFR\n",
              "10066      PRMT2\n",
              "9858     SLC35B1\n",
              "10075      VWA5A\n",
              "Name: gene, dtype: object"
            ]
          },
          "metadata": {
            "tags": []
          },
          "execution_count": 265
        }
      ]
    },
    {
      "cell_type": "code",
      "metadata": {
        "id": "vJxRvpiFGBiy"
      },
      "source": [
        ""
      ],
      "execution_count": null,
      "outputs": []
    }
  ]
}